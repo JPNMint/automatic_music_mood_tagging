{
 "cells": [
  {
   "cell_type": "code",
   "execution_count": 5,
   "metadata": {},
   "outputs": [],
   "source": [
    "import resreg\n",
    "from sklearn.model_selection  import train_test_split\n",
    "import pandas as pd\n",
    "import numpy as np\n"
   ]
  },
  {
   "cell_type": "code",
   "execution_count": 8,
   "metadata": {},
   "outputs": [],
   "source": [
    "ANNOT_CSV_FILE = '/home/ykinoshita/humrec_mood_tagger/mood_tagger_master_thesis_V2/data/GEMS-INN_2023-01-30_expert.csv'\n",
    "\n",
    "GEMS_9 = ['Transcendence']#['Wonder', 'Transcendence', 'Nostalgia', 'Tenderness', 'Peacfulness', 'Joy', 'Power', 'Tension', 'Sadness']\n",
    "NUM_CLASSES = len(GEMS_9)\n",
    "GENRE_MAP = {'H': 'Hip-Hop', 'K': 'Classical', 'P': 'Pop'}\n",
    "GEMS_9_ext = ['artist', 'title', 'Transcendence', 'Wonder', 'Transcendence', 'Nostalgia', 'Tenderness', 'Peacfulness', 'Joy', 'Power', 'Tension', 'Sadness']\n",
    "emma_df = pd.read_csv(ANNOT_CSV_FILE, encoding=\"ISO-8859-1\")\n",
    "emma_df.dropna(inplace=True)\n",
    "emma_df = emma_df[GEMS_9_ext]"
   ]
  },
  {
   "cell_type": "code",
   "execution_count": 11,
   "metadata": {},
   "outputs": [
    {
     "data": {
      "text/html": [
       "<div>\n",
       "<style scoped>\n",
       "    .dataframe tbody tr th:only-of-type {\n",
       "        vertical-align: middle;\n",
       "    }\n",
       "\n",
       "    .dataframe tbody tr th {\n",
       "        vertical-align: top;\n",
       "    }\n",
       "\n",
       "    .dataframe thead th {\n",
       "        text-align: right;\n",
       "    }\n",
       "</style>\n",
       "<table border=\"1\" class=\"dataframe\">\n",
       "  <thead>\n",
       "    <tr style=\"text-align: right;\">\n",
       "      <th></th>\n",
       "      <th>artist</th>\n",
       "      <th>title</th>\n",
       "      <th>Transcendence</th>\n",
       "      <th>Wonder</th>\n",
       "      <th>Transcendence</th>\n",
       "      <th>Nostalgia</th>\n",
       "      <th>Tenderness</th>\n",
       "      <th>Peacfulness</th>\n",
       "      <th>Joy</th>\n",
       "      <th>Power</th>\n",
       "      <th>Tension</th>\n",
       "      <th>Sadness</th>\n",
       "    </tr>\n",
       "  </thead>\n",
       "  <tbody>\n",
       "    <tr>\n",
       "      <th>0</th>\n",
       "      <td>Trailerpark</td>\n",
       "      <td>Schlechter Tag</td>\n",
       "      <td>19.68</td>\n",
       "      <td>15.65</td>\n",
       "      <td>19.68</td>\n",
       "      <td>3.54</td>\n",
       "      <td>5.30</td>\n",
       "      <td>5.08</td>\n",
       "      <td>22.33</td>\n",
       "      <td>2.35</td>\n",
       "      <td>11.20</td>\n",
       "      <td>0.00</td>\n",
       "    </tr>\n",
       "    <tr>\n",
       "      <th>1</th>\n",
       "      <td>Desiigner</td>\n",
       "      <td>Panda</td>\n",
       "      <td>4.69</td>\n",
       "      <td>24.69</td>\n",
       "      <td>4.69</td>\n",
       "      <td>0.78</td>\n",
       "      <td>9.30</td>\n",
       "      <td>7.92</td>\n",
       "      <td>28.26</td>\n",
       "      <td>22.73</td>\n",
       "      <td>9.33</td>\n",
       "      <td>1.06</td>\n",
       "    </tr>\n",
       "    <tr>\n",
       "      <th>2</th>\n",
       "      <td>NAS</td>\n",
       "      <td>Doo Rags</td>\n",
       "      <td>18.57</td>\n",
       "      <td>24.43</td>\n",
       "      <td>18.57</td>\n",
       "      <td>14.29</td>\n",
       "      <td>19.88</td>\n",
       "      <td>17.55</td>\n",
       "      <td>24.67</td>\n",
       "      <td>27.48</td>\n",
       "      <td>0.00</td>\n",
       "      <td>2.50</td>\n",
       "    </tr>\n",
       "    <tr>\n",
       "      <th>3</th>\n",
       "      <td>DMX</td>\n",
       "      <td>X Gon' Give It To Ya</td>\n",
       "      <td>7.05</td>\n",
       "      <td>17.27</td>\n",
       "      <td>7.05</td>\n",
       "      <td>9.89</td>\n",
       "      <td>8.60</td>\n",
       "      <td>9.52</td>\n",
       "      <td>37.27</td>\n",
       "      <td>37.77</td>\n",
       "      <td>0.00</td>\n",
       "      <td>0.73</td>\n",
       "    </tr>\n",
       "    <tr>\n",
       "      <th>4</th>\n",
       "      <td>Xatar</td>\n",
       "      <td>Meine Große Liebe</td>\n",
       "      <td>15.86</td>\n",
       "      <td>6.46</td>\n",
       "      <td>15.86</td>\n",
       "      <td>0.00</td>\n",
       "      <td>9.27</td>\n",
       "      <td>0.67</td>\n",
       "      <td>13.86</td>\n",
       "      <td>15.98</td>\n",
       "      <td>3.79</td>\n",
       "      <td>0.00</td>\n",
       "    </tr>\n",
       "  </tbody>\n",
       "</table>\n",
       "</div>"
      ],
      "text/plain": [
       "        artist                 title  Transcendence  Wonder  Transcendence  \\\n",
       "0  Trailerpark        Schlechter Tag          19.68   15.65          19.68   \n",
       "1    Desiigner                 Panda           4.69   24.69           4.69   \n",
       "2          NAS              Doo Rags          18.57   24.43          18.57   \n",
       "3          DMX  X Gon' Give It To Ya           7.05   17.27           7.05   \n",
       "4        Xatar     Meine Große Liebe          15.86    6.46          15.86   \n",
       "\n",
       "   Nostalgia  Tenderness  Peacfulness    Joy  Power  Tension  Sadness  \n",
       "0       3.54        5.30         5.08  22.33   2.35    11.20     0.00  \n",
       "1       0.78        9.30         7.92  28.26  22.73     9.33     1.06  \n",
       "2      14.29       19.88        17.55  24.67  27.48     0.00     2.50  \n",
       "3       9.89        8.60         9.52  37.27  37.77     0.00     0.73  \n",
       "4       0.00        9.27         0.67  13.86  15.98     3.79     0.00  "
      ]
     },
     "execution_count": 11,
     "metadata": {},
     "output_type": "execute_result"
    }
   ],
   "source": [
    "emma_df.head()"
   ]
  },
  {
   "cell_type": "code",
   "execution_count": 14,
   "metadata": {},
   "outputs": [],
   "source": [
    "import os\n",
    "for filename in os.listdir(directory):\n",
    "\n",
    "    df = np.load(filename) \n",
    "\n",
    "\n"
   ]
  },
  {
   "cell_type": "code",
   "execution_count": 21,
   "metadata": {},
   "outputs": [],
   "source": [
    "b = np.load('/home/ykinoshita/humrec_mood_tagger/mood_tagger_master_thesis_V2/data/cache/h_actionbronson_actincr.npy')"
   ]
  },
  {
   "cell_type": "code",
   "execution_count": 22,
   "metadata": {},
   "outputs": [
    {
     "data": {
      "text/plain": [
       "(2028600, 1)"
      ]
     },
     "execution_count": 22,
     "metadata": {},
     "output_type": "execute_result"
    }
   ],
   "source": [
    "b.shape"
   ]
  },
  {
   "cell_type": "code",
   "execution_count": 19,
   "metadata": {},
   "outputs": [
    {
     "data": {
      "text/plain": [
       "(1504514, 1)"
      ]
     },
     "execution_count": 19,
     "metadata": {},
     "output_type": "execute_result"
    }
   ],
   "source": [
    "a.shape"
   ]
  },
  {
   "cell_type": "code",
   "execution_count": 3,
   "metadata": {},
   "outputs": [
    {
     "ename": "NameError",
     "evalue": "name 'X' is not defined",
     "output_type": "error",
     "traceback": [
      "\u001b[0;31m---------------------------------------------------------------------------\u001b[0m",
      "\u001b[0;31mNameError\u001b[0m                                 Traceback (most recent call last)",
      "\u001b[1;32m/home/ykinoshita/humrec_mood_tagger/mood_tagger_master_thesis_V2/Testing/resampling.ipynb Cell 2\u001b[0m line \u001b[0;36m2\n\u001b[1;32m      <a href='vscode-notebook-cell://ssh-remote%2Bdavinci/home/ykinoshita/humrec_mood_tagger/mood_tagger_master_thesis_V2/Testing/resampling.ipynb#W1sdnNjb2RlLXJlbW90ZQ%3D%3D?line=0'>1</a>\u001b[0m \u001b[39m# Split dataset to training and testing sets\u001b[39;00m\n\u001b[0;32m----> <a href='vscode-notebook-cell://ssh-remote%2Bdavinci/home/ykinoshita/humrec_mood_tagger/mood_tagger_master_thesis_V2/Testing/resampling.ipynb#W1sdnNjb2RlLXJlbW90ZQ%3D%3D?line=1'>2</a>\u001b[0m X_train, X_test, y_train, y_test \u001b[39m=\u001b[39m train_test_split(X, y, test_size\u001b[39m=\u001b[39m\u001b[39m0.25\u001b[39m)\n\u001b[1;32m      <a href='vscode-notebook-cell://ssh-remote%2Bdavinci/home/ykinoshita/humrec_mood_tagger/mood_tagger_master_thesis_V2/Testing/resampling.ipynb#W1sdnNjb2RlLXJlbW90ZQ%3D%3D?line=3'>4</a>\u001b[0m \u001b[39m# Resample training set with random oversampling such that values above the\u001b[39;00m\n\u001b[1;32m      <a href='vscode-notebook-cell://ssh-remote%2Bdavinci/home/ykinoshita/humrec_mood_tagger/mood_tagger_master_thesis_V2/Testing/resampling.ipynb#W1sdnNjb2RlLXJlbW90ZQ%3D%3D?line=4'>5</a>\u001b[0m \u001b[39m# the 90th percentile are equal size with other values (balance)\u001b[39;00m\n\u001b[1;32m      <a href='vscode-notebook-cell://ssh-remote%2Bdavinci/home/ykinoshita/humrec_mood_tagger/mood_tagger_master_thesis_V2/Testing/resampling.ipynb#W1sdnNjb2RlLXJlbW90ZQ%3D%3D?line=5'>6</a>\u001b[0m relevance \u001b[39m=\u001b[39m resreg\u001b[39m.\u001b[39msigmoid_relevance(y, cl\u001b[39m=\u001b[39m\u001b[39mNone\u001b[39;00m, ch\u001b[39m=\u001b[39mnp\u001b[39m.\u001b[39mpercentile(y, \u001b[39m90\u001b[39m))\n",
      "\u001b[0;31mNameError\u001b[0m: name 'X' is not defined"
     ]
    }
   ],
   "source": [
    "# Split dataset to training and testing sets\n",
    "X_train, X_test, y_train, y_test = train_test_split(X, y, test_size=0.25)\n",
    "\n",
    "# Resample training set with random oversampling such that values above the\n",
    "# the 90th percentile are equal size with other values (balance)\n",
    "relevance = resreg.sigmoid_relevance(y, cl=None, ch=np.percentile(y, 90))\n",
    "X_train_res, y_train_res = resreg.random_oversampling(X_train, y_train, relevance,\n",
    "                                                      relevance_threshold=0.5,\n",
    "                                                      over='balance')\n"
   ]
  },
  {
   "cell_type": "code",
   "execution_count": null,
   "metadata": {},
   "outputs": [],
   "source": []
  }
 ],
 "metadata": {
  "kernelspec": {
   "display_name": "mood_tagger_venv",
   "language": "python",
   "name": "python3"
  },
  "language_info": {
   "codemirror_mode": {
    "name": "ipython",
    "version": 3
   },
   "file_extension": ".py",
   "mimetype": "text/x-python",
   "name": "python",
   "nbconvert_exporter": "python",
   "pygments_lexer": "ipython3",
   "version": "3.10.12"
  }
 },
 "nbformat": 4,
 "nbformat_minor": 2
}
