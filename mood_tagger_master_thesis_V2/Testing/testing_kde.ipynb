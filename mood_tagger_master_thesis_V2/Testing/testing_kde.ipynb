{
 "cells": [
  {
   "cell_type": "code",
   "execution_count": 12,
   "metadata": {},
   "outputs": [],
   "source": [
    "import pandas as pd\n",
    "import numpy as np\n",
    "import os\n",
    "import seaborn as sns\n",
    "\n",
    "\n",
    "ANNOT_CSV_FILE = '/home/ykinoshita/humrec_mood_tagger/mood_tagger_master_thesis_V2/data/GEMS-INN_2023-01-30_expert.csv'\n",
    "\n",
    "\n",
    "GEMS_9 = ['Wonder', 'Transcendence', 'Nostalgia', 'Tenderness', 'Peacfulness', 'Joy', 'Power', 'Tension', 'Sadness']\n",
    "NUM_CLASSES = len(GEMS_9)\n",
    "GENRE_MAP = {'H': 'Hip-Hop', 'K': 'Classical', 'P': 'Pop'}\n",
    "\n",
    "emma_df = pd.read_csv(ANNOT_CSV_FILE, encoding=\"ISO-8859-1\")\n",
    "emma_df.dropna(inplace=True)"
   ]
  },
  {
   "cell_type": "code",
   "execution_count": 13,
   "metadata": {},
   "outputs": [
    {
     "data": {
      "text/html": [
       "<div>\n",
       "<style scoped>\n",
       "    .dataframe tbody tr th:only-of-type {\n",
       "        vertical-align: middle;\n",
       "    }\n",
       "\n",
       "    .dataframe tbody tr th {\n",
       "        vertical-align: top;\n",
       "    }\n",
       "\n",
       "    .dataframe thead th {\n",
       "        text-align: right;\n",
       "    }\n",
       "</style>\n",
       "<table border=\"1\" class=\"dataframe\">\n",
       "  <thead>\n",
       "    <tr style=\"text-align: right;\">\n",
       "      <th></th>\n",
       "      <th>Unnamed: 0</th>\n",
       "      <th>artist</th>\n",
       "      <th>title</th>\n",
       "      <th>Wonder</th>\n",
       "      <th>Transcendence</th>\n",
       "      <th>Nostalgia</th>\n",
       "      <th>Tenderness</th>\n",
       "      <th>Peacfulness</th>\n",
       "      <th>Joy</th>\n",
       "      <th>Power</th>\n",
       "      <th>Tension</th>\n",
       "      <th>Sadness</th>\n",
       "      <th>Sublimity</th>\n",
       "      <th>Vitality</th>\n",
       "      <th>Unease</th>\n",
       "      <th>ICC</th>\n",
       "      <th>Familiarity</th>\n",
       "      <th>Liking</th>\n",
       "    </tr>\n",
       "  </thead>\n",
       "  <tbody>\n",
       "    <tr>\n",
       "      <th>0</th>\n",
       "      <td>1</td>\n",
       "      <td>Trailerpark</td>\n",
       "      <td>Schlechter Tag</td>\n",
       "      <td>15.65</td>\n",
       "      <td>19.68</td>\n",
       "      <td>3.54</td>\n",
       "      <td>5.30</td>\n",
       "      <td>5.08</td>\n",
       "      <td>22.33</td>\n",
       "      <td>2.35</td>\n",
       "      <td>11.20</td>\n",
       "      <td>0.00</td>\n",
       "      <td>18.50</td>\n",
       "      <td>21.15</td>\n",
       "      <td>10.50</td>\n",
       "      <td>0.65</td>\n",
       "      <td>2.00</td>\n",
       "      <td>3.17</td>\n",
       "    </tr>\n",
       "    <tr>\n",
       "      <th>1</th>\n",
       "      <td>2</td>\n",
       "      <td>Desiigner</td>\n",
       "      <td>Panda</td>\n",
       "      <td>24.69</td>\n",
       "      <td>4.69</td>\n",
       "      <td>0.78</td>\n",
       "      <td>9.30</td>\n",
       "      <td>7.92</td>\n",
       "      <td>28.26</td>\n",
       "      <td>22.73</td>\n",
       "      <td>9.33</td>\n",
       "      <td>1.06</td>\n",
       "      <td>19.39</td>\n",
       "      <td>30.32</td>\n",
       "      <td>8.91</td>\n",
       "      <td>0.76</td>\n",
       "      <td>4.25</td>\n",
       "      <td>3.83</td>\n",
       "    </tr>\n",
       "    <tr>\n",
       "      <th>2</th>\n",
       "      <td>3</td>\n",
       "      <td>NAS</td>\n",
       "      <td>Doo Rags</td>\n",
       "      <td>24.43</td>\n",
       "      <td>18.57</td>\n",
       "      <td>14.29</td>\n",
       "      <td>19.88</td>\n",
       "      <td>17.55</td>\n",
       "      <td>24.67</td>\n",
       "      <td>27.48</td>\n",
       "      <td>0.00</td>\n",
       "      <td>2.50</td>\n",
       "      <td>33.45</td>\n",
       "      <td>36.15</td>\n",
       "      <td>2.11</td>\n",
       "      <td>0.58</td>\n",
       "      <td>2.08</td>\n",
       "      <td>4.00</td>\n",
       "    </tr>\n",
       "    <tr>\n",
       "      <th>3</th>\n",
       "      <td>4</td>\n",
       "      <td>DMX</td>\n",
       "      <td>X Gon' Give It To Ya</td>\n",
       "      <td>17.27</td>\n",
       "      <td>7.05</td>\n",
       "      <td>9.89</td>\n",
       "      <td>8.60</td>\n",
       "      <td>9.52</td>\n",
       "      <td>37.27</td>\n",
       "      <td>37.77</td>\n",
       "      <td>0.00</td>\n",
       "      <td>0.73</td>\n",
       "      <td>26.05</td>\n",
       "      <td>40.19</td>\n",
       "      <td>0.61</td>\n",
       "      <td>0.86</td>\n",
       "      <td>3.91</td>\n",
       "      <td>4.18</td>\n",
       "    </tr>\n",
       "    <tr>\n",
       "      <th>4</th>\n",
       "      <td>5</td>\n",
       "      <td>Xatar</td>\n",
       "      <td>Meine Große Liebe</td>\n",
       "      <td>6.46</td>\n",
       "      <td>15.86</td>\n",
       "      <td>0.00</td>\n",
       "      <td>9.27</td>\n",
       "      <td>0.67</td>\n",
       "      <td>13.86</td>\n",
       "      <td>15.98</td>\n",
       "      <td>3.79</td>\n",
       "      <td>0.00</td>\n",
       "      <td>19.42</td>\n",
       "      <td>19.77</td>\n",
       "      <td>3.38</td>\n",
       "      <td>0.52</td>\n",
       "      <td>2.00</td>\n",
       "      <td>2.64</td>\n",
       "    </tr>\n",
       "    <tr>\n",
       "      <th>...</th>\n",
       "      <td>...</td>\n",
       "      <td>...</td>\n",
       "      <td>...</td>\n",
       "      <td>...</td>\n",
       "      <td>...</td>\n",
       "      <td>...</td>\n",
       "      <td>...</td>\n",
       "      <td>...</td>\n",
       "      <td>...</td>\n",
       "      <td>...</td>\n",
       "      <td>...</td>\n",
       "      <td>...</td>\n",
       "      <td>...</td>\n",
       "      <td>...</td>\n",
       "      <td>...</td>\n",
       "      <td>...</td>\n",
       "      <td>...</td>\n",
       "      <td>...</td>\n",
       "    </tr>\n",
       "    <tr>\n",
       "      <th>366</th>\n",
       "      <td>367</td>\n",
       "      <td>Oasis</td>\n",
       "      <td>Don't Look Back In Anger</td>\n",
       "      <td>10.31</td>\n",
       "      <td>7.60</td>\n",
       "      <td>31.85</td>\n",
       "      <td>14.10</td>\n",
       "      <td>15.00</td>\n",
       "      <td>18.47</td>\n",
       "      <td>3.99</td>\n",
       "      <td>6.56</td>\n",
       "      <td>10.03</td>\n",
       "      <td>26.27</td>\n",
       "      <td>17.74</td>\n",
       "      <td>11.55</td>\n",
       "      <td>0.84</td>\n",
       "      <td>3.89</td>\n",
       "      <td>3.44</td>\n",
       "    </tr>\n",
       "    <tr>\n",
       "      <th>367</th>\n",
       "      <td>368</td>\n",
       "      <td>Der Junge mit der Gitarre</td>\n",
       "      <td>Hallo Worum Gehts Ich Bin Dagegen</td>\n",
       "      <td>11.20</td>\n",
       "      <td>8.11</td>\n",
       "      <td>0.00</td>\n",
       "      <td>0.00</td>\n",
       "      <td>4.20</td>\n",
       "      <td>27.52</td>\n",
       "      <td>15.02</td>\n",
       "      <td>8.74</td>\n",
       "      <td>1.33</td>\n",
       "      <td>13.45</td>\n",
       "      <td>30.34</td>\n",
       "      <td>9.19</td>\n",
       "      <td>0.89</td>\n",
       "      <td>1.28</td>\n",
       "      <td>2.31</td>\n",
       "    </tr>\n",
       "    <tr>\n",
       "      <th>368</th>\n",
       "      <td>369</td>\n",
       "      <td>Chris Brown</td>\n",
       "      <td>Forever</td>\n",
       "      <td>17.44</td>\n",
       "      <td>1.79</td>\n",
       "      <td>10.14</td>\n",
       "      <td>10.42</td>\n",
       "      <td>5.66</td>\n",
       "      <td>26.20</td>\n",
       "      <td>11.26</td>\n",
       "      <td>9.63</td>\n",
       "      <td>0.00</td>\n",
       "      <td>22.56</td>\n",
       "      <td>24.38</td>\n",
       "      <td>8.71</td>\n",
       "      <td>0.81</td>\n",
       "      <td>2.48</td>\n",
       "      <td>2.86</td>\n",
       "    </tr>\n",
       "    <tr>\n",
       "      <th>369</th>\n",
       "      <td>370</td>\n",
       "      <td>Ryan Adams</td>\n",
       "      <td>Lucky Now</td>\n",
       "      <td>14.44</td>\n",
       "      <td>9.07</td>\n",
       "      <td>13.75</td>\n",
       "      <td>17.13</td>\n",
       "      <td>30.12</td>\n",
       "      <td>16.12</td>\n",
       "      <td>4.26</td>\n",
       "      <td>9.06</td>\n",
       "      <td>3.42</td>\n",
       "      <td>29.92</td>\n",
       "      <td>15.01</td>\n",
       "      <td>11.20</td>\n",
       "      <td>0.79</td>\n",
       "      <td>1.28</td>\n",
       "      <td>2.72</td>\n",
       "    </tr>\n",
       "    <tr>\n",
       "      <th>370</th>\n",
       "      <td>371</td>\n",
       "      <td>Amy Winehouse</td>\n",
       "      <td>Back To Black</td>\n",
       "      <td>16.98</td>\n",
       "      <td>11.66</td>\n",
       "      <td>29.96</td>\n",
       "      <td>17.91</td>\n",
       "      <td>17.17</td>\n",
       "      <td>16.15</td>\n",
       "      <td>10.72</td>\n",
       "      <td>1.66</td>\n",
       "      <td>4.97</td>\n",
       "      <td>32.93</td>\n",
       "      <td>19.90</td>\n",
       "      <td>5.70</td>\n",
       "      <td>0.79</td>\n",
       "      <td>3.97</td>\n",
       "      <td>3.83</td>\n",
       "    </tr>\n",
       "  </tbody>\n",
       "</table>\n",
       "<p>370 rows × 18 columns</p>\n",
       "</div>"
      ],
      "text/plain": [
       "     Unnamed: 0                     artist                              title  \\\n",
       "0             1                Trailerpark                     Schlechter Tag   \n",
       "1             2                  Desiigner                              Panda   \n",
       "2             3                        NAS                           Doo Rags   \n",
       "3             4                        DMX               X Gon' Give It To Ya   \n",
       "4             5                      Xatar                  Meine Große Liebe   \n",
       "..          ...                        ...                                ...   \n",
       "366         367                      Oasis           Don't Look Back In Anger   \n",
       "367         368  Der Junge mit der Gitarre  Hallo Worum Gehts Ich Bin Dagegen   \n",
       "368         369                Chris Brown                            Forever   \n",
       "369         370                 Ryan Adams                          Lucky Now   \n",
       "370         371              Amy Winehouse                      Back To Black   \n",
       "\n",
       "     Wonder  Transcendence  Nostalgia  Tenderness  Peacfulness    Joy  Power  \\\n",
       "0     15.65          19.68       3.54        5.30         5.08  22.33   2.35   \n",
       "1     24.69           4.69       0.78        9.30         7.92  28.26  22.73   \n",
       "2     24.43          18.57      14.29       19.88        17.55  24.67  27.48   \n",
       "3     17.27           7.05       9.89        8.60         9.52  37.27  37.77   \n",
       "4      6.46          15.86       0.00        9.27         0.67  13.86  15.98   \n",
       "..      ...            ...        ...         ...          ...    ...    ...   \n",
       "366   10.31           7.60      31.85       14.10        15.00  18.47   3.99   \n",
       "367   11.20           8.11       0.00        0.00         4.20  27.52  15.02   \n",
       "368   17.44           1.79      10.14       10.42         5.66  26.20  11.26   \n",
       "369   14.44           9.07      13.75       17.13        30.12  16.12   4.26   \n",
       "370   16.98          11.66      29.96       17.91        17.17  16.15  10.72   \n",
       "\n",
       "     Tension  Sadness  Sublimity  Vitality  Unease   ICC  Familiarity  Liking  \n",
       "0      11.20     0.00      18.50     21.15   10.50  0.65         2.00    3.17  \n",
       "1       9.33     1.06      19.39     30.32    8.91  0.76         4.25    3.83  \n",
       "2       0.00     2.50      33.45     36.15    2.11  0.58         2.08    4.00  \n",
       "3       0.00     0.73      26.05     40.19    0.61  0.86         3.91    4.18  \n",
       "4       3.79     0.00      19.42     19.77    3.38  0.52         2.00    2.64  \n",
       "..       ...      ...        ...       ...     ...   ...          ...     ...  \n",
       "366     6.56    10.03      26.27     17.74   11.55  0.84         3.89    3.44  \n",
       "367     8.74     1.33      13.45     30.34    9.19  0.89         1.28    2.31  \n",
       "368     9.63     0.00      22.56     24.38    8.71  0.81         2.48    2.86  \n",
       "369     9.06     3.42      29.92     15.01   11.20  0.79         1.28    2.72  \n",
       "370     1.66     4.97      32.93     19.90    5.70  0.79         3.97    3.83  \n",
       "\n",
       "[370 rows x 18 columns]"
      ]
     },
     "execution_count": 13,
     "metadata": {},
     "output_type": "execute_result"
    }
   ],
   "source": [
    "emma_df"
   ]
  },
  {
   "cell_type": "code",
   "execution_count": 14,
   "metadata": {},
   "outputs": [],
   "source": [
    "from KDEpy import FFTKDE"
   ]
  },
  {
   "cell_type": "code",
   "execution_count": 15,
   "metadata": {},
   "outputs": [
    {
     "data": {
      "text/plain": [
       "array([ 5.08,  7.92, 17.55,  9.52,  0.67, 17.32,  8.91,  8.44,  5.87,\n",
       "        7.13, 11.32,  8.79, 11.66, 19.78, 17.59,  6.83, 20.32,  7.3 ,\n",
       "        4.34, 10.01, 17.55,  1.67,  3.91, 11.39,  7.08,  2.5 , 14.37,\n",
       "       10.48,  8.46,  7.93,  4.96, 17.81, 10.52,  6.7 ,  2.81,  8.67,\n",
       "        8.72, 10.3 , 27.33,  6.88,  3.96,  5.08,  1.95, 13.22,  7.96,\n",
       "        2.75,  2.79, 16.95,  2.98, 14.53,  7.22, 11.44, 13.6 ,  1.24,\n",
       "        4.45, 19.81,  2.79,  5.3 ,  9.66,  2.43,  2.15,  7.06, 12.27,\n",
       "        3.42,  9.7 ,  7.31, 11.91,  6.22,  6.04, 13.7 ,  7.83,  7.5 ,\n",
       "        4.71,  2.31,  2.78,  0.  ,  5.89, 16.63,  4.5 ,  5.69,  5.16,\n",
       "        3.96, 13.96,  4.14,  2.88,  0.26,  7.05,  5.27,  1.38,  1.56,\n",
       "       28.13, 12.21, 19.11,  2.4 , 18.98, 13.02, 11.28,  3.11, 10.01,\n",
       "        5.23, 14.59,  3.4 ,  7.4 , 40.42, 38.31, 42.1 ,  2.56,  5.62,\n",
       "        6.07, 17.83, 18.8 , 38.46, 44.77, 19.45, 16.07, 27.09, 14.57,\n",
       "        8.87, 39.04, 37.97, 14.36, 36.66, 11.91, 42.24, 23.78, 24.85,\n",
       "       26.17,  7.65,  4.53, 25.06, 20.77, 17.98, 48.16,  1.82, 16.47,\n",
       "       33.82, 12.41, 18.7 ,  4.53, 15.75, 38.24,  8.4 , 43.98, 36.24,\n",
       "       24.51, 34.68,  6.94, 14.75, 11.12, 43.46, 30.57,  8.64, 26.46,\n",
       "        7.31,  8.31, 22.03, 16.3 ,  6.67, 20.58,  5.61,  9.51, 16.65,\n",
       "        8.07, 21.58, 20.73, 11.81, 11.97, 27.02, 24.47, 12.04,  6.72,\n",
       "       21.18, 20.19,  4.74, 35.44, 40.18,  7.39, 42.22, 11.29,  4.19,\n",
       "       30.05, 34.07,  0.  , 44.04, 23.2 ,  4.44, 13.42, 14.65,  2.25,\n",
       "       23.86, 29.31,  3.34, 29.51, 12.76,  5.07, 41.46, 21.83,  3.95,\n",
       "       29.7 ,  4.98, 27.84,  2.44, 12.23, 11.94, 24.58,  0.  , 28.37,\n",
       "        4.84, 14.48,  4.82, 11.29, 34.74, 12.24, 35.69, 39.56, 20.85,\n",
       "        3.09, 29.82,  7.47, 10.94,  2.78, 20.4 ,  5.65, 18.35, 15.56,\n",
       "       22.89,  9.25, 11.53, 30.39, 33.12, 17.74, 14.95, 34.47, 26.52,\n",
       "        7.2 , 19.3 ,  4.1 , 26.65,  6.92, 16.06, 27.84, 16.25, 14.24,\n",
       "       18.93, 20.89, 29.92, 13.36,  8.39, 18.97, 23.03, 21.24, 14.74,\n",
       "       15.8 , 31.72,  9.39, 27.6 ,  8.68, 32.59, 14.96, 13.18,  6.64,\n",
       "        8.17,  9.88,  5.58, 24.42, 25.07, 10.44, 12.31, 13.13, 21.59,\n",
       "       13.4 , 12.88, 13.89, 16.44, 16.75,  8.46, 23.22, 20.43, 18.11,\n",
       "       15.06, 13.5 , 17.54, 14.98,  6.57, 17.47, 27.64, 14.42,  9.22,\n",
       "       22.78, 26.85,  3.55,  7.09, 13.58,  9.05, 21.45, 32.88, 13.18,\n",
       "       12.41,  3.6 ,  6.74, 19.18,  3.95, 10.5 , 16.39,  7.75, 12.12,\n",
       "       22.88, 20.88, 31.36,  7.65,  3.36, 19.05, 13.28,  7.49,  3.93,\n",
       "       17.95, 13.69, 15.03, 17.4 , 16.35, 18.78, 19.87, 16.05, 17.27,\n",
       "       12.92,  8.29, 14.72, 16.75, 12.49, 12.85, 17.57, 20.45, 26.23,\n",
       "        5.4 , 10.64, 26.68, 19.85,  7.58,  7.23, 12.42, 15.92, 10.6 ,\n",
       "       11.28,  8.77, 19.96, 23.54, 15.61, 18.96, 18.31,  6.32,  5.45,\n",
       "       20.92, 17.99,  8.79, 15.24, 11.95, 25.56, 17.66, 16.79, 17.02,\n",
       "       33.2 , 27.36, 15.37,  9.92, 22.82, 15.  ,  4.2 ,  5.66, 30.12,\n",
       "       17.17])"
      ]
     },
     "execution_count": 15,
     "metadata": {},
     "output_type": "execute_result"
    }
   ],
   "source": [
    "y = np.array(emma_df['Peacfulness'])\n",
    "y"
   ]
  },
  {
   "cell_type": "code",
   "execution_count": 16,
   "metadata": {},
   "outputs": [
    {
     "name": "stdout",
     "output_type": "stream",
     "text": [
      "3.308072582374425\n"
     ]
    }
   ],
   "source": [
    "silverman_bandwidth = 1.06 * np.std(y) * np.power(len(y), (-1.0 / 5.0))\n",
    "print(silverman_bandwidth)"
   ]
  },
  {
   "cell_type": "code",
   "execution_count": 17,
   "metadata": {},
   "outputs": [],
   "source": [
    "kernel = FFTKDE(bw=silverman_bandwidth).fit(y, weights=None)"
   ]
  },
  {
   "cell_type": "code",
   "execution_count": 18,
   "metadata": {},
   "outputs": [
    {
     "data": {
      "text/plain": [
       "array([5.86693985e-07, 8.26514777e-07, 8.43448487e-07, ...,\n",
       "       2.81149496e-07, 2.75504926e-07, 1.95564662e-07])"
      ]
     },
     "execution_count": 18,
     "metadata": {},
     "output_type": "execute_result"
    }
   ],
   "source": [
    "x, y_dens_grid = kernel.evaluate(4096)  # Default precision is 1024\n",
    "y_dens_grid"
   ]
  },
  {
   "cell_type": "code",
   "execution_count": 19,
   "metadata": {},
   "outputs": [],
   "source": [
    "from sklearn.preprocessing import MinMaxScaler\n",
    "y_dens_grid = (\n",
    "            MinMaxScaler().fit_transform(y_dens_grid.reshape(-1, 1)).flatten()\n",
    "        )"
   ]
  },
  {
   "cell_type": "code",
   "execution_count": 20,
   "metadata": {},
   "outputs": [
    {
     "data": {
      "text/plain": [
       "(4096,)"
      ]
     },
     "execution_count": 20,
     "metadata": {},
     "output_type": "execute_result"
    }
   ],
   "source": [
    "y_dens_grid.shape"
   ]
  },
  {
   "cell_type": "code",
   "execution_count": 21,
   "metadata": {},
   "outputs": [
    {
     "ename": "NameError",
     "evalue": "name 'plt' is not defined",
     "output_type": "error",
     "traceback": [
      "\u001b[0;31m---------------------------------------------------------------------------\u001b[0m",
      "\u001b[0;31mNameError\u001b[0m                                 Traceback (most recent call last)",
      "\u001b[1;32m/home/ykinoshita/humrec_mood_tagger/mood_tagger_master_thesis_V2/Testing/testing_kde.ipynb Cell 10\u001b[0m line \u001b[0;36m1\n\u001b[0;32m----> <a href='vscode-notebook-cell://ssh-remote%2Bdavinci/home/ykinoshita/humrec_mood_tagger/mood_tagger_master_thesis_V2/Testing/testing_kde.ipynb#X12sdnNjb2RlLXJlbW90ZQ%3D%3D?line=0'>1</a>\u001b[0m plt\u001b[39m.\u001b[39mplot(y_dens_grid)\n",
      "\u001b[0;31mNameError\u001b[0m: name 'plt' is not defined"
     ]
    }
   ],
   "source": [
    "\n",
    "plt.plot(y_dens_grid)"
   ]
  },
  {
   "cell_type": "code",
   "execution_count": 32,
   "metadata": {},
   "outputs": [],
   "source": [
    "from typing import Any, Sequence\n",
    "\n",
    "\n",
    "def bisection(array: Sequence[Any], value: Any) -> int:\n",
    "    \"\"\"Given an ``array`` , and given a ``value`` , returns an index j such that ``value`` is between array[j]\n",
    "    and array[j+1]. ``array`` must be monotonic increasing. j=-1 or j=len(array) is returned\n",
    "    to indicate that ``value`` is out of range below and above respectively.\n",
    "    From https://stackoverflow.com/a/41856629\"\"\"\n",
    "    n = len(array)\n",
    "    if value < array[0]:\n",
    "        return -1\n",
    "    elif value > array[n - 1]:\n",
    "        return n\n",
    "    jl = 0  # Initialize lower\n",
    "    ju = n - 1  # and upper limits.\n",
    "    while ju - jl > 1:  # If we are not yet done,\n",
    "        jm = (ju + jl) >> 1  # compute a midpoint with a bitshift\n",
    "        if value >= array[jm]:\n",
    "            jl = jm  # and replace either the lower limit\n",
    "        else:\n",
    "            ju = jm  # or the upper limit, as appropriate.\n",
    "        # Repeat until the test condition is satisfied.\n",
    "    if value == array[0]:  # edge cases at bottom\n",
    "        return 0\n",
    "    elif value == array[n - 1]:  # and top\n",
    "        return n - 1\n",
    "    else:\n",
    "        return jl"
   ]
  },
  {
   "cell_type": "code",
   "execution_count": null,
   "metadata": {},
   "outputs": [
    {
     "ename": "ValueError",
     "evalue": "The truth value of an array with more than one element is ambiguous. Use a.any() or a.all()",
     "output_type": "error",
     "traceback": [
      "\u001b[0;31m---------------------------------------------------------------------------\u001b[0m",
      "\u001b[0;31mValueError\u001b[0m                                Traceback (most recent call last)",
      "\u001b[1;32m/home/ykinoshita/humrec_mood_tagger/mood_tagger_master_thesis_V2/Testing/testing_kde.ipynb Cell 12\u001b[0m line \u001b[0;36m2\n\u001b[1;32m      <a href='vscode-notebook-cell://ssh-remote%2Bdavinci/home/ykinoshita/humrec_mood_tagger/mood_tagger_master_thesis_V2/Testing/testing_kde.ipynb#X40sdnNjb2RlLXJlbW90ZQ%3D%3D?line=0'>1</a>\u001b[0m \u001b[39mtry\u001b[39;00m:\n\u001b[0;32m----> <a href='vscode-notebook-cell://ssh-remote%2Bdavinci/home/ykinoshita/humrec_mood_tagger/mood_tagger_master_thesis_V2/Testing/testing_kde.ipynb#X40sdnNjb2RlLXJlbW90ZQ%3D%3D?line=1'>2</a>\u001b[0m     idx \u001b[39m=\u001b[39m bisection(x, y)\n\u001b[1;32m      <a href='vscode-notebook-cell://ssh-remote%2Bdavinci/home/ykinoshita/humrec_mood_tagger/mood_tagger_master_thesis_V2/Testing/testing_kde.ipynb#X40sdnNjb2RlLXJlbW90ZQ%3D%3D?line=2'>3</a>\u001b[0m \u001b[39mexcept\u001b[39;00m \u001b[39mAttributeError\u001b[39;00m:\n\u001b[1;32m      <a href='vscode-notebook-cell://ssh-remote%2Bdavinci/home/ykinoshita/humrec_mood_tagger/mood_tagger_master_thesis_V2/Testing/testing_kde.ipynb#X40sdnNjb2RlLXJlbW90ZQ%3D%3D?line=3'>4</a>\u001b[0m     \u001b[39mraise\u001b[39;00m \u001b[39mValueError\u001b[39;00m(\u001b[39m\"\u001b[39m\u001b[39mMust call fit first!\u001b[39m\u001b[39m\"\u001b[39m)\n",
      "\u001b[1;32m/home/ykinoshita/humrec_mood_tagger/mood_tagger_master_thesis_V2/Testing/testing_kde.ipynb Cell 12\u001b[0m line \u001b[0;36m1\n\u001b[1;32m      <a href='vscode-notebook-cell://ssh-remote%2Bdavinci/home/ykinoshita/humrec_mood_tagger/mood_tagger_master_thesis_V2/Testing/testing_kde.ipynb#X40sdnNjb2RlLXJlbW90ZQ%3D%3D?line=4'>5</a>\u001b[0m \u001b[39m\u001b[39m\u001b[39m\"\"\"Given an ``array`` , and given a ``value`` , returns an index j such that ``value`` is between array[j]\u001b[39;00m\n\u001b[1;32m      <a href='vscode-notebook-cell://ssh-remote%2Bdavinci/home/ykinoshita/humrec_mood_tagger/mood_tagger_master_thesis_V2/Testing/testing_kde.ipynb#X40sdnNjb2RlLXJlbW90ZQ%3D%3D?line=5'>6</a>\u001b[0m \u001b[39mand array[j+1]. ``array`` must be monotonic increasing. j=-1 or j=len(array) is returned\u001b[39;00m\n\u001b[1;32m      <a href='vscode-notebook-cell://ssh-remote%2Bdavinci/home/ykinoshita/humrec_mood_tagger/mood_tagger_master_thesis_V2/Testing/testing_kde.ipynb#X40sdnNjb2RlLXJlbW90ZQ%3D%3D?line=6'>7</a>\u001b[0m \u001b[39mto indicate that ``value`` is out of range below and above respectively.\u001b[39;00m\n\u001b[1;32m      <a href='vscode-notebook-cell://ssh-remote%2Bdavinci/home/ykinoshita/humrec_mood_tagger/mood_tagger_master_thesis_V2/Testing/testing_kde.ipynb#X40sdnNjb2RlLXJlbW90ZQ%3D%3D?line=7'>8</a>\u001b[0m \u001b[39mFrom https://stackoverflow.com/a/41856629\"\"\"\u001b[39;00m\n\u001b[1;32m      <a href='vscode-notebook-cell://ssh-remote%2Bdavinci/home/ykinoshita/humrec_mood_tagger/mood_tagger_master_thesis_V2/Testing/testing_kde.ipynb#X40sdnNjb2RlLXJlbW90ZQ%3D%3D?line=8'>9</a>\u001b[0m n \u001b[39m=\u001b[39m \u001b[39mlen\u001b[39m(array)\n\u001b[0;32m---> <a href='vscode-notebook-cell://ssh-remote%2Bdavinci/home/ykinoshita/humrec_mood_tagger/mood_tagger_master_thesis_V2/Testing/testing_kde.ipynb#X40sdnNjb2RlLXJlbW90ZQ%3D%3D?line=9'>10</a>\u001b[0m \u001b[39mif\u001b[39;00m value \u001b[39m<\u001b[39m array[\u001b[39m0\u001b[39m]:\n\u001b[1;32m     <a href='vscode-notebook-cell://ssh-remote%2Bdavinci/home/ykinoshita/humrec_mood_tagger/mood_tagger_master_thesis_V2/Testing/testing_kde.ipynb#X40sdnNjb2RlLXJlbW90ZQ%3D%3D?line=10'>11</a>\u001b[0m     \u001b[39mreturn\u001b[39;00m \u001b[39m-\u001b[39m\u001b[39m1\u001b[39m\n\u001b[1;32m     <a href='vscode-notebook-cell://ssh-remote%2Bdavinci/home/ykinoshita/humrec_mood_tagger/mood_tagger_master_thesis_V2/Testing/testing_kde.ipynb#X40sdnNjb2RlLXJlbW90ZQ%3D%3D?line=11'>12</a>\u001b[0m \u001b[39melif\u001b[39;00m value \u001b[39m>\u001b[39m array[n \u001b[39m-\u001b[39m \u001b[39m1\u001b[39m]:\n",
      "\u001b[0;31mValueError\u001b[0m: The truth value of an array with more than one element is ambiguous. Use a.any() or a.all()"
     ]
    }
   ],
   "source": [
    "try:\n",
    "    idx = bisection(x, y)\n",
    "except AttributeError:\n",
    "    raise ValueError(\"Must call fit first!\")"
   ]
  },
  {
   "cell_type": "code",
   "execution_count": null,
   "metadata": {},
   "outputs": [],
   "source": [
    " try:\n",
    "            dens = self.y_dens_grid[idx]\n",
    "        except IndexError:\n",
    "            if idx <= -1:\n",
    "                idx = 0\n",
    "            elif idx >= len(self.x):\n",
    "                idx = len(self.x) - 1\n",
    "            dens = self.y_dens_grid[idx]\n",
    "        return dens"
   ]
  },
  {
   "cell_type": "code",
   "execution_count": null,
   "metadata": {},
   "outputs": [
    {
     "data": {
      "text/plain": [
       "array([-12.46243787, -12.44459052, -12.42674318, ...,  60.58674318,\n",
       "        60.60459052,  60.62243787])"
      ]
     },
     "execution_count": 23,
     "metadata": {},
     "output_type": "execute_result"
    }
   ],
   "source": [
    "x"
   ]
  },
  {
   "cell_type": "code",
   "execution_count": null,
   "metadata": {},
   "outputs": [
    {
     "ename": "AttributeError",
     "evalue": "'numpy.ndarray' object has no attribute 'pdf'",
     "output_type": "error",
     "traceback": [
      "\u001b[0;31m---------------------------------------------------------------------------\u001b[0m",
      "\u001b[0;31mAttributeError\u001b[0m                            Traceback (most recent call last)",
      "\u001b[1;32m/home/ykinoshita/humrec_mood_tagger/mood_tagger_master_thesis_V2/Testing/testing_kde.ipynb Cell 8\u001b[0m line \u001b[0;36m6\n\u001b[1;32m      <a href='vscode-notebook-cell://ssh-remote%2Bdavinci/home/ykinoshita/humrec_mood_tagger/mood_tagger_master_thesis_V2/Testing/testing_kde.ipynb#X10sdnNjb2RlLXJlbW90ZQ%3D%3D?line=2'>3</a>\u001b[0m plt\u001b[39m.\u001b[39mscatter(y, np\u001b[39m.\u001b[39mzeros_like(y), marker\u001b[39m=\u001b[39m\u001b[39m'\u001b[39m\u001b[39m|\u001b[39m\u001b[39m'\u001b[39m, c\u001b[39m=\u001b[39m\u001b[39m'\u001b[39m\u001b[39mr\u001b[39m\u001b[39m'\u001b[39m,\n\u001b[1;32m      <a href='vscode-notebook-cell://ssh-remote%2Bdavinci/home/ykinoshita/humrec_mood_tagger/mood_tagger_master_thesis_V2/Testing/testing_kde.ipynb#X10sdnNjb2RlLXJlbW90ZQ%3D%3D?line=3'>4</a>\u001b[0m             label\u001b[39m=\u001b[39m\u001b[39m'\u001b[39m\u001b[39mData\u001b[39m\u001b[39m'\u001b[39m, zorder\u001b[39m=\u001b[39m\u001b[39m9\u001b[39m)\n\u001b[1;32m      <a href='vscode-notebook-cell://ssh-remote%2Bdavinci/home/ykinoshita/humrec_mood_tagger/mood_tagger_master_thesis_V2/Testing/testing_kde.ipynb#X10sdnNjb2RlLXJlbW90ZQ%3D%3D?line=4'>5</a>\u001b[0m plt\u001b[39m.\u001b[39mhist(y, density\u001b[39m=\u001b[39m\u001b[39mTrue\u001b[39;00m, label\u001b[39m=\u001b[39m\u001b[39m'\u001b[39m\u001b[39mHistogram\u001b[39m\u001b[39m'\u001b[39m, edgecolor\u001b[39m=\u001b[39m\u001b[39m'\u001b[39m\u001b[39m#1f77b4\u001b[39m\u001b[39m'\u001b[39m, color\u001b[39m=\u001b[39m\u001b[39m'\u001b[39m\u001b[39mw\u001b[39m\u001b[39m'\u001b[39m)\n\u001b[0;32m----> <a href='vscode-notebook-cell://ssh-remote%2Bdavinci/home/ykinoshita/humrec_mood_tagger/mood_tagger_master_thesis_V2/Testing/testing_kde.ipynb#X10sdnNjb2RlLXJlbW90ZQ%3D%3D?line=5'>6</a>\u001b[0m plt\u001b[39m.\u001b[39mplot(x, y\u001b[39m.\u001b[39;49mpdf(x), label\u001b[39m=\u001b[39m\u001b[39m'\u001b[39m\u001b[39mTrue pdf\u001b[39m\u001b[39m'\u001b[39m, c\u001b[39m=\u001b[39m\u001b[39m'\u001b[39m\u001b[39mr\u001b[39m\u001b[39m'\u001b[39m, ls\u001b[39m=\u001b[39m\u001b[39m'\u001b[39m\u001b[39m--\u001b[39m\u001b[39m'\u001b[39m)\n\u001b[1;32m      <a href='vscode-notebook-cell://ssh-remote%2Bdavinci/home/ykinoshita/humrec_mood_tagger/mood_tagger_master_thesis_V2/Testing/testing_kde.ipynb#X10sdnNjb2RlLXJlbW90ZQ%3D%3D?line=6'>7</a>\u001b[0m plt\u001b[39m.\u001b[39mlegend(loc\u001b[39m=\u001b[39m\u001b[39m'\u001b[39m\u001b[39mbest\u001b[39m\u001b[39m'\u001b[39m);\n",
      "\u001b[0;31mAttributeError\u001b[0m: 'numpy.ndarray' object has no attribute 'pdf'"
     ]
    },
    {
     "data": {
      "image/png": "[encoded data removed]",
      "text/plain": [
       "<Figure size 640x480 with 1 Axes>"
      ]
     },
     "metadata": {},
     "output_type": "display_data"
    }
   ],
   "source": [
    "import matplotlib.pyplot as plt\n",
    "plt.plot(x, y_dens_grid, zorder=10, color='#ff7f0e', label='KDE with box kernel')\n",
    "plt.scatter(y, np.zeros_like(y), marker='|', c='r',\n",
    "            label='Data', zorder=9)\n",
    "plt.hist(y, density=True, label='Histogram', edgecolor='#1f77b4', color='w')\n",
    "plt.plot(x, y.pdf(x), label='True pdf', c='r', ls='--')\n",
    "plt.legend(loc='best')"
   ]
  },
  {
   "cell_type": "code",
   "execution_count": null,
   "metadata": {},
   "outputs": [
    {
     "data": {
      "text/plain": [
       "array([1.01290434e-05, 1.01290434e-05, 1.01290434e-05, 1.01290434e-05,\n",
       "       1.35407762e+00, 1.01290434e-05, 1.01290434e-05, 1.01290434e-05,\n",
       "       1.01290434e-05, 1.01290434e-05, 1.01290434e-05, 1.01290434e-05,\n",
       "       1.01290434e-05, 1.01290434e-05, 1.01290434e-05, 1.01290434e-05,\n",
       "       1.01290434e-05, 1.01290434e-05, 1.01290434e-05, 1.01290434e-05,\n",
       "       1.01290434e-05, 1.01290434e-05, 1.01290434e-05, 1.01290434e-05,\n",
       "       1.01290434e-05, 1.01290434e-05, 1.01290434e-05, 1.01290434e-05,\n",
       "       1.01290434e-05, 1.01290434e-05, 1.01290434e-05, 1.01290434e-05,\n",
       "       1.01290434e-05, 1.01290434e-05, 1.01290434e-05, 1.01290434e-05,\n",
       "       1.01290434e-05, 1.01290434e-05, 3.61331144e+00, 1.01290434e-05,\n",
       "       1.01290434e-05, 1.01290434e-05, 1.01290434e-05, 1.01290434e-05,\n",
       "       1.01290434e-05, 1.01290434e-05, 1.01290434e-05, 1.01290434e-05,\n",
       "       1.01290434e-05, 1.01290434e-05, 1.01290434e-05, 1.01290434e-05,\n",
       "       1.01290434e-05, 1.01290434e-05, 1.01290434e-05, 1.01290434e-05,\n",
       "       1.01290434e-05, 1.01290434e-05, 1.01290434e-05, 1.01290434e-05,\n",
       "       1.01290434e-05, 1.01290434e-05, 1.01290434e-05, 1.01290434e-05,\n",
       "       1.01290434e-05, 1.01290434e-05, 1.01290434e-05, 1.01290434e-05,\n",
       "       1.01290434e-05, 1.01290434e-05, 1.01290434e-05, 1.01290434e-05,\n",
       "       1.01290434e-05, 1.01290434e-05, 1.01290434e-05, 2.90505750e+00,\n",
       "       1.01290434e-05, 1.01290434e-05, 1.01290434e-05, 1.01290434e-05,\n",
       "       1.01290434e-05, 1.01290434e-05, 1.01290434e-05, 1.01290434e-05,\n",
       "       1.01290434e-05, 2.33110739e+00, 1.01290434e-05, 1.01290434e-05,\n",
       "       1.01290434e-05, 1.01290434e-05, 4.02309604e+00, 1.01290434e-05,\n",
       "       1.01290434e-05, 1.01290434e-05, 1.01290434e-05, 1.01290434e-05,\n",
       "       1.01290434e-05, 1.01290434e-05, 1.01290434e-05, 1.01290434e-05,\n",
       "       1.01290434e-05, 1.01290434e-05, 1.01290434e-05, 7.58178875e+00,\n",
       "       7.25437488e+00, 7.91616053e+00, 1.01290434e-05, 1.01290434e-05,\n",
       "       1.01290434e-05, 1.01290434e-05, 1.01290434e-05, 7.27773719e+00,\n",
       "       8.63219739e+00, 1.01290434e-05, 1.01290434e-05, 3.49177015e+00,\n",
       "       1.01290434e-05, 1.01290434e-05, 7.36162159e+00, 7.20466710e+00,\n",
       "       1.01290434e-05, 7.00135131e+00, 1.01290434e-05, 7.94935966e+00,\n",
       "       1.27215330e+00, 2.13147733e+00, 2.98096411e+00, 1.01290434e-05,\n",
       "       1.01290434e-05, 2.28295595e+00, 1.01290434e-05, 1.01290434e-05,\n",
       "       9.51793260e+00, 1.01290434e-05, 1.01290434e-05, 6.39288280e+00,\n",
       "       1.01290434e-05, 1.01290434e-05, 1.01290434e-05, 1.01290434e-05,\n",
       "       7.24397734e+00, 1.01290434e-05, 8.40433450e+00, 6.92731788e+00,\n",
       "       1.87837198e+00, 6.61043631e+00, 1.01290434e-05, 1.01290434e-05,\n",
       "       1.01290434e-05, 8.25942113e+00, 5.20283013e+00, 1.01290434e-05,\n",
       "       3.14334475e+00, 1.01290434e-05, 1.01290434e-05, 1.01290434e-05,\n",
       "       1.01290434e-05, 1.01290434e-05, 1.01290434e-05, 1.01290434e-05,\n",
       "       1.01290434e-05, 1.01290434e-05, 1.01290434e-05, 1.01290434e-05,\n",
       "       1.01290434e-05, 1.01290434e-05, 1.01290434e-05, 3.45385513e+00,\n",
       "       1.85082194e+00, 1.01290434e-05, 1.01290434e-05, 1.01290434e-05,\n",
       "       1.01290434e-05, 1.01290434e-05, 6.77801042e+00, 7.53945613e+00,\n",
       "       1.01290434e-05, 7.94102397e+00, 1.01290434e-05, 1.01290434e-05,\n",
       "       4.96484983e+00, 6.46023473e+00, 2.90505750e+00, 8.41962098e+00,\n",
       "       7.37468844e-01, 1.01290434e-05, 1.01290434e-05, 1.01290434e-05,\n",
       "       1.01290434e-05, 1.35069535e+00, 4.60656709e+00, 1.01290434e-05,\n",
       "       4.70162155e+00, 1.01290434e-05, 1.01290434e-05, 7.77635746e+00,\n",
       "       1.01290434e-05, 1.01290434e-05, 4.79564015e+00, 1.01290434e-05,\n",
       "       3.87902265e+00, 1.01290434e-05, 1.01290434e-05, 1.01290434e-05,\n",
       "       1.93298448e+00, 2.90505750e+00, 4.13937201e+00, 1.01290434e-05,\n",
       "       1.01290434e-05, 1.01290434e-05, 1.01290434e-05, 6.62286622e+00,\n",
       "       1.01290434e-05, 6.82788075e+00, 7.43965950e+00, 1.01290434e-05,\n",
       "       1.01290434e-05, 4.85498479e+00, 1.01290434e-05, 1.01290434e-05,\n",
       "       1.01290434e-05, 1.01290434e-05, 1.01290434e-05, 1.01290434e-05,\n",
       "       1.01290434e-05, 4.12494836e-01, 1.01290434e-05, 1.01290434e-05,\n",
       "       5.12178763e+00, 6.18777476e+00, 1.01290434e-05, 1.01290434e-05,\n",
       "       6.55933268e+00, 3.18301218e+00, 1.01290434e-05, 1.01290434e-05,\n",
       "       1.01290434e-05, 3.25160102e+00, 1.01290434e-05, 1.01290434e-05,\n",
       "       3.87902265e+00, 1.01290434e-05, 1.01290434e-05, 1.01290434e-05,\n",
       "       1.01290434e-05, 4.89724339e+00, 1.01290434e-05, 1.01290434e-05,\n",
       "       1.01290434e-05, 5.59145884e-01, 1.01290434e-05, 1.01290434e-05,\n",
       "       1.01290434e-05, 5.68740595e+00, 1.01290434e-05, 3.75187004e+00,\n",
       "       1.01290434e-05, 6.01119103e+00, 1.01290434e-05, 1.01290434e-05,\n",
       "       1.01290434e-05, 1.01290434e-05, 1.01290434e-05, 1.01290434e-05,\n",
       "       1.80887349e+00, 2.28295595e+00, 1.01290434e-05, 1.01290434e-05,\n",
       "       1.01290434e-05, 1.01290434e-05, 1.01290434e-05, 1.01290434e-05,\n",
       "       1.01290434e-05, 1.01290434e-05, 1.01290434e-05, 1.01290434e-05,\n",
       "       7.54985243e-01, 1.01290434e-05, 1.01290434e-05, 1.01290434e-05,\n",
       "       1.01290434e-05, 1.01290434e-05, 1.01290434e-05, 1.01290434e-05,\n",
       "       1.01290434e-05, 3.77010143e+00, 1.01290434e-05, 1.01290434e-05,\n",
       "       3.00582885e-01, 3.35828911e+00, 1.01290434e-05, 1.01290434e-05,\n",
       "       1.01290434e-05, 1.01290434e-05, 1.01290434e-05, 6.10740367e+00,\n",
       "       1.01290434e-05, 1.01290434e-05, 1.01290434e-05, 1.01290434e-05,\n",
       "       1.01290434e-05, 1.01290434e-05, 1.01290434e-05, 1.01290434e-05,\n",
       "       1.01290434e-05, 1.01290434e-05, 4.12494836e-01, 1.01290434e-05,\n",
       "       5.54264523e+00, 1.01290434e-05, 1.01290434e-05, 1.01290434e-05,\n",
       "       1.01290434e-05, 1.01290434e-05, 1.01290434e-05, 1.01290434e-05,\n",
       "       1.01290434e-05, 1.01290434e-05, 1.01290434e-05, 1.01290434e-05,\n",
       "       1.01290434e-05, 1.01290434e-05, 1.01290434e-05, 1.01290434e-05,\n",
       "       1.01290434e-05, 1.01290434e-05, 1.01290434e-05, 1.01290434e-05,\n",
       "       1.01290434e-05, 1.01290434e-05, 1.01290434e-05, 1.01290434e-05,\n",
       "       3.01191818e+00, 1.01290434e-05, 1.01290434e-05, 3.27108114e+00,\n",
       "       1.01290434e-05, 1.01290434e-05, 1.01290434e-05, 1.01290434e-05,\n",
       "       1.01290434e-05, 1.01290434e-05, 1.01290434e-05, 1.01290434e-05,\n",
       "       1.01290434e-05, 1.06116046e+00, 1.01290434e-05, 1.01290434e-05,\n",
       "       1.01290434e-05, 1.01290434e-05, 1.01290434e-05, 1.01290434e-05,\n",
       "       1.01290434e-05, 1.01290434e-05, 1.01290434e-05, 1.01290434e-05,\n",
       "       2.61371803e+00, 1.01290434e-05, 1.01290434e-05, 1.01290434e-05,\n",
       "       6.20998745e+00, 3.63179755e+00, 1.01290434e-05, 1.01290434e-05,\n",
       "       3.38122796e-01, 1.01290434e-05, 1.01290434e-05, 1.01290434e-05,\n",
       "       4.98988554e+00, 1.01290434e-05])"
      ]
     },
     "execution_count": 25,
     "metadata": {},
     "output_type": "execute_result"
    }
   ],
   "source": [
    "from denseweight import DenseWeight\n",
    "dw = DenseWeight(alpha=2)\n",
    "\n",
    "dw.fit(y)\n"
   ]
  },
  {
   "cell_type": "code",
   "execution_count": null,
   "metadata": {},
   "outputs": [
    {
     "data": {
      "image/png": "[encoded data removed]",
      "text/plain": [
       "<Figure size 640x480 with 1 Axes>"
      ]
     },
     "metadata": {},
     "output_type": "display_data"
    }
   ],
   "source": [
    "import numpy as np\n",
    "from sklearn.neighbors import KernelDensity\n",
    "import matplotlib.pyplot as plt\n",
    "\n",
    "# Sample data (replace this with your own dataset)\n",
    "data = y.reshape(-1, 1)\n",
    "\n",
    "# Create and fit a Kernel Density Estimation model\n",
    "kde = KernelDensity(bandwidth=0.5, kernel='gaussian')\n",
    "kde.fit(data)\n",
    "\n",
    "# Generate points for the KDE estimation\n",
    "x = np.linspace(0, 5, 1000)\n",
    "log_dens = kde.score_samples(x.reshape(-1, 1))\n",
    "\n",
    "# Plot the KDE estimation\n",
    "plt.fill_between(x, np.exp(log_dens), alpha=0.5)\n",
    "plt.show()"
   ]
  },
  {
   "cell_type": "code",
   "execution_count": null,
   "metadata": {},
   "outputs": [],
   "source": [
    "log_density = kde.score_samples(y.reshape(-1, 1))"
   ]
  },
  {
   "cell_type": "code",
   "execution_count": null,
   "metadata": {},
   "outputs": [],
   "source": [
    "probability = np.exp(log_density)"
   ]
  },
  {
   "cell_type": "code",
   "execution_count": null,
   "metadata": {},
   "outputs": [],
   "source": [
    "probability.sort()"
   ]
  },
  {
   "cell_type": "code",
   "execution_count": null,
   "metadata": {},
   "outputs": [
    {
     "data": {
      "text/plain": [
       "12.454685810734087"
      ]
     },
     "execution_count": 55,
     "metadata": {},
     "output_type": "execute_result"
    }
   ],
   "source": [
    "probability"
   ]
  },
  {
   "cell_type": "code",
   "execution_count": null,
   "metadata": {},
   "outputs": [
    {
     "ename": "ValueError",
     "evalue": "The grid must be sorted.",
     "output_type": "error",
     "traceback": [
      "\u001b[0;31m---------------------------------------------------------------------------\u001b[0m",
      "\u001b[0;31mValueError\u001b[0m                                Traceback (most recent call last)",
      "\u001b[1;32m/home/ykinoshita/humrec_mood_tagger/mood_tagger_master_thesis_V2/Testing/testing_kde.ipynb Cell 20\u001b[0m line \u001b[0;36m1\n\u001b[0;32m----> <a href='vscode-notebook-cell://ssh-remote%2Bdavinci/home/ykinoshita/humrec_mood_tagger/mood_tagger_master_thesis_V2/Testing/testing_kde.ipynb#X30sdnNjb2RlLXJlbW90ZQ%3D%3D?line=0'>1</a>\u001b[0m kernel(y)\n",
      "File \u001b[0;32m~/humrec_mood_tagger/mood_tagger_venv/lib/python3.10/site-packages/KDEpy/BaseKDE.py:225\u001b[0m, in \u001b[0;36mBaseKDE.__call__\u001b[0;34m(self, *args, **kwargs)\u001b[0m\n\u001b[1;32m    224\u001b[0m \u001b[39mdef\u001b[39;00m \u001b[39m__call__\u001b[39m(\u001b[39mself\u001b[39m, \u001b[39m*\u001b[39margs, \u001b[39m*\u001b[39m\u001b[39m*\u001b[39mkwargs):\n\u001b[0;32m--> 225\u001b[0m     \u001b[39mreturn\u001b[39;00m \u001b[39mself\u001b[39;49m\u001b[39m.\u001b[39;49mevaluate(\u001b[39m*\u001b[39;49margs, \u001b[39m*\u001b[39;49m\u001b[39m*\u001b[39;49mkwargs)\n",
      "File \u001b[0;32m~/humrec_mood_tagger/mood_tagger_venv/lib/python3.10/site-packages/KDEpy/FFTKDE.py:145\u001b[0m, in \u001b[0;36mFFTKDE.evaluate\u001b[0;34m(self, grid_points)\u001b[0m\n\u001b[1;32m    143\u001b[0m \u001b[39m# Extra verification for FFTKDE (checking the sorting property)\u001b[39;00m\n\u001b[1;32m    144\u001b[0m \u001b[39mif\u001b[39;00m \u001b[39mnot\u001b[39;00m grid_is_sorted(\u001b[39mself\u001b[39m\u001b[39m.\u001b[39mgrid_points):\n\u001b[0;32m--> 145\u001b[0m     \u001b[39mraise\u001b[39;00m \u001b[39mValueError\u001b[39;00m(\u001b[39m\"\u001b[39m\u001b[39mThe grid must be sorted.\u001b[39m\u001b[39m\"\u001b[39m)\n\u001b[1;32m    147\u001b[0m \u001b[39mif\u001b[39;00m \u001b[39misinstance\u001b[39m(\u001b[39mself\u001b[39m\u001b[39m.\u001b[39mbw, numbers\u001b[39m.\u001b[39mNumber) \u001b[39mand\u001b[39;00m \u001b[39mself\u001b[39m\u001b[39m.\u001b[39mbw \u001b[39m>\u001b[39m \u001b[39m0\u001b[39m:\n\u001b[1;32m    148\u001b[0m     bw \u001b[39m=\u001b[39m \u001b[39mself\u001b[39m\u001b[39m.\u001b[39mbw\n",
      "\u001b[0;31mValueError\u001b[0m: The grid must be sorted."
     ]
    }
   ],
   "source": [
    "kernel(y)"
   ]
  },
  {
   "cell_type": "code",
   "execution_count": 22,
   "metadata": {},
   "outputs": [],
   "source": [
    "def GDE_fit( train_embeds, save_path = None):\n",
    "        GDE = KernelDensity().fit(train_embeds)\n",
    "        if save_path:\n",
    "            filename = os.path.join(save_path, 'GDE.sav')\n",
    "            pickle.dump(GDE, open(filename, 'wb'))\n",
    "        return GDE"
   ]
  },
  {
   "cell_type": "code",
   "execution_count": 23,
   "metadata": {},
   "outputs": [],
   "source": [
    "def GDE_scores(embeds, GDE ):\n",
    "        scores = GDE.score_samples(embeds)\n",
    "        norm = np.linalg.norm(-scores)\n",
    "        return -scores/norm"
   ]
  },
  {
   "cell_type": "code",
   "execution_count": 24,
   "metadata": {},
   "outputs": [
    {
     "ename": "NameError",
     "evalue": "name 'KernelDensity' is not defined",
     "output_type": "error",
     "traceback": [
      "\u001b[0;31m---------------------------------------------------------------------------\u001b[0m",
      "\u001b[0;31mNameError\u001b[0m                                 Traceback (most recent call last)",
      "\u001b[1;32m/home/ykinoshita/humrec_mood_tagger/mood_tagger_master_thesis_V2/Testing/testing_kde.ipynb Cell 25\u001b[0m line \u001b[0;36m1\n\u001b[0;32m----> <a href='vscode-notebook-cell://ssh-remote%2Bdavinci/home/ykinoshita/humrec_mood_tagger/mood_tagger_master_thesis_V2/Testing/testing_kde.ipynb#X33sdnNjb2RlLXJlbW90ZQ%3D%3D?line=0'>1</a>\u001b[0m gde \u001b[39m=\u001b[39m GDE_fit(y\u001b[39m.\u001b[39;49mreshape(\u001b[39m-\u001b[39;49m\u001b[39m1\u001b[39;49m, \u001b[39m1\u001b[39;49m))\n",
      "\u001b[1;32m/home/ykinoshita/humrec_mood_tagger/mood_tagger_master_thesis_V2/Testing/testing_kde.ipynb Cell 25\u001b[0m line \u001b[0;36m2\n\u001b[1;32m      <a href='vscode-notebook-cell://ssh-remote%2Bdavinci/home/ykinoshita/humrec_mood_tagger/mood_tagger_master_thesis_V2/Testing/testing_kde.ipynb#X33sdnNjb2RlLXJlbW90ZQ%3D%3D?line=0'>1</a>\u001b[0m \u001b[39mdef\u001b[39;00m \u001b[39mGDE_fit\u001b[39m( train_embeds, save_path \u001b[39m=\u001b[39m \u001b[39mNone\u001b[39;00m):\n\u001b[0;32m----> <a href='vscode-notebook-cell://ssh-remote%2Bdavinci/home/ykinoshita/humrec_mood_tagger/mood_tagger_master_thesis_V2/Testing/testing_kde.ipynb#X33sdnNjb2RlLXJlbW90ZQ%3D%3D?line=1'>2</a>\u001b[0m         GDE \u001b[39m=\u001b[39m KernelDensity()\u001b[39m.\u001b[39mfit(train_embeds)\n\u001b[1;32m      <a href='vscode-notebook-cell://ssh-remote%2Bdavinci/home/ykinoshita/humrec_mood_tagger/mood_tagger_master_thesis_V2/Testing/testing_kde.ipynb#X33sdnNjb2RlLXJlbW90ZQ%3D%3D?line=2'>3</a>\u001b[0m         \u001b[39mif\u001b[39;00m save_path:\n\u001b[1;32m      <a href='vscode-notebook-cell://ssh-remote%2Bdavinci/home/ykinoshita/humrec_mood_tagger/mood_tagger_master_thesis_V2/Testing/testing_kde.ipynb#X33sdnNjb2RlLXJlbW90ZQ%3D%3D?line=3'>4</a>\u001b[0m             filename \u001b[39m=\u001b[39m os\u001b[39m.\u001b[39mpath\u001b[39m.\u001b[39mjoin(save_path, \u001b[39m'\u001b[39m\u001b[39mGDE.sav\u001b[39m\u001b[39m'\u001b[39m)\n",
      "\u001b[0;31mNameError\u001b[0m: name 'KernelDensity' is not defined"
     ]
    }
   ],
   "source": [
    "gde = GDE_fit(y.reshape(-1, 1))"
   ]
  },
  {
   "cell_type": "code",
   "execution_count": 25,
   "metadata": {},
   "outputs": [
    {
     "ename": "NameError",
     "evalue": "name 'gde' is not defined",
     "output_type": "error",
     "traceback": [
      "\u001b[0;31m---------------------------------------------------------------------------\u001b[0m",
      "\u001b[0;31mNameError\u001b[0m                                 Traceback (most recent call last)",
      "\u001b[1;32m/home/ykinoshita/humrec_mood_tagger/mood_tagger_master_thesis_V2/Testing/testing_kde.ipynb Cell 26\u001b[0m line \u001b[0;36m1\n\u001b[0;32m----> <a href='vscode-notebook-cell://ssh-remote%2Bdavinci/home/ykinoshita/humrec_mood_tagger/mood_tagger_master_thesis_V2/Testing/testing_kde.ipynb#X34sdnNjb2RlLXJlbW90ZQ%3D%3D?line=0'>1</a>\u001b[0m GDE_scores(y\u001b[39m.\u001b[39mreshape(\u001b[39m-\u001b[39m\u001b[39m1\u001b[39m, \u001b[39m1\u001b[39m), gde)\n",
      "\u001b[0;31mNameError\u001b[0m: name 'gde' is not defined"
     ]
    }
   ],
   "source": [
    "GDE_scores(y.reshape(-1, 1), gde)"
   ]
  },
  {
   "cell_type": "code",
   "execution_count": 26,
   "metadata": {},
   "outputs": [],
   "source": [
    "from typing import Optional, Union\n",
    "from numpy.typing import ArrayLike\n",
    "import functools\n",
    "class GetKDE:\n",
    "    r\"\"\"\n",
    "    This is badsed on the code from denseweight.\n",
    "    But instead it only returns the dense probabilities\n",
    "\n",
    "    \"\"\"\n",
    "\n",
    "    def __init__(\n",
    "        self,\n",
    "        alpha: float = 1.0,\n",
    "        bandwidth: Optional[Union[float, str]] = None,\n",
    "        eps: float = 1e-6,\n",
    "    ):\n",
    "        self.alpha = alpha\n",
    "        self.bandwidth = bandwidth\n",
    "        self.eps = eps\n",
    "\n",
    "    def fit(self, y: ArrayLike, grid_points=4096) -> np.ndarray:\n",
    "\n",
    "        if self.bandwidth is None:\n",
    "            silverman_bandwidth = 1.06 * np.std(y) * np.power(len(y), (-1.0 / 5.0))\n",
    "            self.bandwidth = silverman_bandwidth\n",
    "\n",
    "        self.kernel = FFTKDE(bw=self.bandwidth).fit(y, weights=None)\n",
    "\n",
    "        x, y_dens_grid = self.kernel.evaluate(grid_points)  # Default precision is 1024\n",
    "        self.x = x\n",
    "\n",
    "        # Min-Max Scale to 0-1 since pdf's can actually exceed 1\n",
    "        # See: https://stats.stackexchange.com/questions/5819/kernel-density-estimate-takes-values-larger-than-1\n",
    "        self.y_dens_grid = (\n",
    "            MinMaxScaler().fit_transform(y_dens_grid.reshape(-1, 1)).flatten()\n",
    "        )\n",
    "\n",
    "        self.y_dens = np.vectorize(self.get_density)(y)\n",
    "        return self.y_dens #self.weights\n",
    "\n",
    "    def get_density(self, y: ArrayLike) -> np.ndarray:\n",
    "        try:\n",
    "            idx = bisection(self.x, y)\n",
    "        except AttributeError:\n",
    "            raise ValueError(\"Must call fit first!\")\n",
    "        try:\n",
    "            dens = self.y_dens_grid[idx]\n",
    "        except IndexError:\n",
    "            if idx <= -1:\n",
    "                idx = 0\n",
    "            elif idx >= len(self.x):\n",
    "                idx = len(self.x) - 1\n",
    "            dens = self.y_dens_grid[idx]\n",
    "        return dens\n",
    "\n"
   ]
  },
  {
   "cell_type": "code",
   "execution_count": 27,
   "metadata": {},
   "outputs": [],
   "source": [
    "gdw = GetKDE()"
   ]
  },
  {
   "cell_type": "code",
   "execution_count": 33,
   "metadata": {},
   "outputs": [],
   "source": [
    "dense = gdw.fit(y)"
   ]
  },
  {
   "cell_type": "code",
   "execution_count": 34,
   "metadata": {},
   "outputs": [],
   "source": [
    "max_index = np.argmax(dense)"
   ]
  },
  {
   "cell_type": "code",
   "execution_count": 35,
   "metadata": {},
   "outputs": [
    {
     "data": {
      "text/plain": [
       "0.9999897762127931"
      ]
     },
     "execution_count": 35,
     "metadata": {},
     "output_type": "execute_result"
    }
   ],
   "source": [
    "dense[max_index]"
   ]
  },
  {
   "cell_type": "code",
   "execution_count": 36,
   "metadata": {},
   "outputs": [
    {
     "data": {
      "text/plain": [
       "7.96"
      ]
     },
     "execution_count": 36,
     "metadata": {},
     "output_type": "execute_result"
    }
   ],
   "source": [
    "y[max_index]"
   ]
  },
  {
   "cell_type": "code",
   "execution_count": 37,
   "metadata": {},
   "outputs": [
    {
     "data": {
      "text/plain": [
       "15.062567567567566"
      ]
     },
     "execution_count": 37,
     "metadata": {},
     "output_type": "execute_result"
    }
   ],
   "source": [
    "y.mean()"
   ]
  },
  {
   "cell_type": "code",
   "execution_count": 38,
   "metadata": {},
   "outputs": [],
   "source": [
    "top_indices = np.argsort(dense)[:5]"
   ]
  },
  {
   "cell_type": "code",
   "execution_count": 78,
   "metadata": {},
   "outputs": [
    {
     "data": {
      "text/plain": [
       "array([132, 112, 183, 142, 149, 123, 177, 105, 195, 103, 175, 214, 118,\n",
       "       111, 104, 140, 119, 121, 143, 213, 174, 211, 145, 232, 181, 135,\n",
       "       360, 229, 295, 257, 253, 308, 150, 228, 368, 180, 245, 217, 198,\n",
       "       192, 190, 206,  90, 240, 200, 285, 255, 361,  38, 115, 167, 289,\n",
       "       335, 237, 233, 152, 332, 126, 205, 182,  75, 356,  85, 129, 265,\n",
       "       125, 204, 144, 168, 264,   4, 189, 124, 345, 276, 184, 249, 306,\n",
       "       225, 364, 288,  53,  88, 155, 196,  89, 163, 269,  21, 294, 250,\n",
       "       133, 171,  42, 351, 307, 244, 215, 130, 164, 158,  60, 331, 277,\n",
       "       221, 188,  16,  73, 172,  93, 201,  59, 344,  25, 321, 336,  55,\n",
       "        13, 106, 113,  45,  46,  56,  74, 220, 235,  34, 300,  84,  92,\n",
       "       311, 248,  94, 347,  48, 243, 110, 320, 216, 137,  97, 223, 348,\n",
       "       191, 310, 101, 278,  63, 352, 131, 315, 109,  31, 290, 230, 298,\n",
       "       357,  14, 330,   2,  20, 281, 284, 318,   5, 323, 369,  22, 359,\n",
       "       314,  47, 301, 197,  81,  40, 358, 274, 327, 161,  77, 236,  83,\n",
       "       134, 273, 303, 366, 179, 319, 156, 241, 114, 239, 322,  18, 340,\n",
       "       252, 139, 185,  54, 346,  78, 224, 128, 138, 362, 354, 279, 317,\n",
       "       365,  72, 282, 258, 231, 173, 251, 147, 326, 209, 187, 207, 100,\n",
       "       116,  49, 208, 286,  26, 120, 242,  30, 199,  82, 272,   0, 194,\n",
       "        41,  69, 316,  52, 292,  80, 280, 186, 270, 246,  99, 312,  43,\n",
       "       259, 296,  87, 268,  57,  95, 324, 271, 329, 193, 333, 350, 328,\n",
       "       339, 136, 297, 267,  62, 212, 202,  91, 263, 305, 169, 159, 107,\n",
       "       166, 203, 355, 222,  66, 122, 367, 165,  79,  12, 227,  51,  23,\n",
       "        10, 210, 342,  96, 178,   8,  76, 148, 219,  68, 108, 334, 341,\n",
       "        32, 302,  67,  27, 266,  37, 349,  19,  98, 363, 262, 283,  64,\n",
       "       260,  58, 157,  33, 170, 299, 160,   3,  15, 254,  39, 238, 226,\n",
       "       146, 287,  61,  86, 293,  24, 291,   9,   6, 234, 117,  50, 338,\n",
       "        11, 353, 343,  17,  65, 153,  36, 256,  35, 151, 176, 102, 218,\n",
       "       313,  71, 275,  28,   7, 337, 141, 247, 127, 309, 154, 325, 304,\n",
       "       261,  70, 162,   1,  29,  44])"
      ]
     },
     "execution_count": 78,
     "metadata": {},
     "output_type": "execute_result"
    }
   ],
   "source": [
    "np.argsort(dense)"
   ]
  },
  {
   "cell_type": "code",
   "execution_count": 39,
   "metadata": {},
   "outputs": [
    {
     "data": {
      "text/plain": [
       "array([132, 112, 183, 142, 149])"
      ]
     },
     "execution_count": 39,
     "metadata": {},
     "output_type": "execute_result"
    }
   ],
   "source": [
    "top_indices"
   ]
  },
  {
   "cell_type": "code",
   "execution_count": 40,
   "metadata": {},
   "outputs": [
    {
     "data": {
      "text/plain": [
       "array([48.16, 44.77, 44.04, 43.98, 43.46])"
      ]
     },
     "execution_count": 40,
     "metadata": {},
     "output_type": "execute_result"
    }
   ],
   "source": [
    "y[top_indices]"
   ]
  },
  {
   "cell_type": "code",
   "execution_count": 41,
   "metadata": {},
   "outputs": [
    {
     "data": {
      "text/plain": [
       "array([48.16, 44.77, 44.04, 43.98, 43.46, 42.24, 42.22, 42.1 , 41.46,\n",
       "       40.42, 40.18, 39.56, 39.04, 38.46, 38.31, 38.24, 37.97, 36.66,\n",
       "       36.24, 35.69, 35.44, 34.74, 34.68, 34.47, 34.07, 33.82, 33.2 ,\n",
       "       33.12, 32.88, 32.59, 31.72, 31.36, 30.57, 30.39, 30.12, 30.05,\n",
       "       29.92, 29.82, 29.7 , 29.51, 29.31, 28.37, 28.13, 27.84, 27.84,\n",
       "       27.64, 27.6 , 27.36, 27.33, 27.09, 27.02, 26.85, 26.68, 26.65,\n",
       "       26.52, 26.46, 26.23, 26.17,  0.  ,  0.  ,  0.  , 25.56,  0.26,\n",
       "       25.06, 25.07, 24.85, 24.58, 24.51, 24.47, 24.42,  0.67, 23.86,\n",
       "       23.78, 23.54, 23.22, 23.2 , 23.03, 22.88, 22.89, 22.82, 22.78,\n",
       "        1.24,  1.38, 22.03, 21.83,  1.56, 21.58, 21.59,  1.67, 21.45,\n",
       "       21.24,  1.82, 21.18,  1.95, 20.92, 20.88, 20.89, 20.85, 20.77,\n",
       "       20.73, 20.58,  2.15, 20.45, 20.43, 20.4 ,  2.25, 20.32,  2.31,\n",
       "       20.19,  2.4 ,  2.44,  2.43, 19.96,  2.5 , 19.87, 19.85, 19.81,\n",
       "       19.78,  2.56, 19.45,  2.75,  2.79,  2.79,  2.78,  2.78, 19.3 ,\n",
       "        2.81, 19.18,  2.88, 19.11, 19.05, 18.97, 18.98, 18.96,  2.98,\n",
       "       18.93, 18.8 , 18.78,  3.09, 18.7 ,  3.11, 18.35, 18.31,  3.34,\n",
       "        3.36,  3.4 , 18.11,  3.42, 17.99, 17.98, 17.95, 17.83, 17.81,\n",
       "        3.55, 17.74,  3.6 , 17.66, 17.59, 17.57, 17.55, 17.55, 17.54,\n",
       "       17.47, 17.4 , 17.32, 17.27, 17.17,  3.91, 17.02,  3.93, 16.95,\n",
       "        3.95,  3.95,  3.96,  3.96, 16.79, 16.75, 16.75, 16.65, 16.63,\n",
       "        4.1 ,  4.14, 16.47, 16.44, 16.39,  4.2 ,  4.19, 16.35, 16.3 ,\n",
       "       16.25, 16.07, 16.06, 16.05,  4.34, 15.92, 15.8 , 15.75,  4.44,\n",
       "        4.45, 15.61,  4.5 , 15.56,  4.53,  4.53, 15.37, 15.24, 15.06,\n",
       "       15.03, 15.  ,  4.71, 14.98, 14.96, 14.95,  4.74, 14.74, 14.75,\n",
       "       14.72,  4.82, 14.65,  4.84, 14.59, 14.57, 14.53, 14.48, 14.42,\n",
       "       14.37, 14.36, 14.24,  4.96,  4.98, 13.96, 13.89,  5.08,  5.07,\n",
       "        5.08, 13.7 , 13.69, 13.6 , 13.58,  5.16, 13.5 , 13.42, 13.4 ,\n",
       "       13.36,  5.23, 13.28, 13.22, 13.18, 13.18,  5.27, 13.13,  5.3 ,\n",
       "       13.02, 12.92, 12.88, 12.85, 12.76,  5.4 ,  5.45, 12.49, 12.42,\n",
       "       12.41, 12.41, 12.31, 12.27, 12.24, 12.23, 12.21,  5.58, 12.12,\n",
       "       12.04,  5.61,  5.62, 11.97, 11.94, 11.95,  5.65, 11.91, 11.91,\n",
       "        5.66, 11.81,  5.69, 11.66, 11.53, 11.44, 11.39, 11.32, 11.29,\n",
       "       11.28, 11.28, 11.29,  5.87,  5.89, 11.12, 10.94,  6.04,  6.07,\n",
       "       10.64, 10.6 , 10.52, 10.5 ,  6.22, 10.48, 10.44, 10.3 ,  6.32,\n",
       "       10.01, 10.01,  9.92,  9.88,  6.57,  9.7 ,  6.64,  9.66,  6.67,\n",
       "        6.7 ,  6.72,  6.74,  9.51,  9.52,  6.83,  9.39,  6.88,  6.92,\n",
       "        9.25,  6.94,  9.22,  7.06,  7.05,  9.05,  7.08,  7.09,  7.13,\n",
       "        8.91,  7.2 ,  8.87,  7.22,  7.23,  8.79,  8.79,  8.77,  7.3 ,\n",
       "        7.31,  7.31,  8.72,  8.68,  8.67,  8.64,  7.39,  7.4 ,  7.47,\n",
       "        7.49,  7.5 ,  8.46,  8.46,  8.44,  7.58,  8.4 ,  8.39,  7.65,\n",
       "        7.65,  8.31,  8.29,  7.75,  8.17,  7.83,  8.07,  7.92,  7.93,\n",
       "        7.96])"
      ]
     },
     "execution_count": 41,
     "metadata": {},
     "output_type": "execute_result"
    }
   ],
   "source": [
    "y[np.argsort(dense)]"
   ]
  },
  {
   "cell_type": "code",
   "execution_count": 42,
   "metadata": {},
   "outputs": [
    {
     "data": {
      "text/plain": [
       "array([0.03016626, 0.07388881, 0.08438222, 0.08513681, 0.09229017,\n",
       "       0.10759573, 0.10800721, 0.10923454, 0.11613564, 0.12574014,\n",
       "       0.1278298 , 0.13275606, 0.13660825, 0.14074904, 0.14190227,\n",
       "       0.14241552, 0.144356  , 0.15439227, 0.15804679, 0.1629553 ,\n",
       "       0.16541705, 0.17307543, 0.17368901, 0.17621164, 0.18110341,\n",
       "       0.18442811, 0.19345637, 0.19455286, 0.19852021, 0.20326956,\n",
       "       0.21925256, 0.22639839, 0.24317268, 0.24717318, 0.25368426,\n",
       "       0.2549201 , 0.25825736, 0.26034337, 0.2632728 , 0.26791384,\n",
       "       0.27260601, 0.29566817, 0.3014079 , 0.30851979, 0.30851979,\n",
       "       0.31389647, 0.31479643, 0.32072357, 0.3216361 , 0.32763574,\n",
       "       0.32950734, 0.33422476, 0.33852961, 0.33949121, 0.34287696,\n",
       "       0.34483506, 0.35132267, 0.35285066, 0.35659764, 0.35659764,\n",
       "       0.35659764, 0.37097903, 0.38492954, 0.38730644, 0.38730644,\n",
       "       0.39478388, 0.40458208, 0.40727792, 0.40863787, 0.41070857,\n",
       "       0.43315866, 0.43332562, 0.43720269, 0.44761793, 0.46273166,\n",
       "       0.46359632, 0.47239888, 0.47963802, 0.47963802, 0.48330924,\n",
       "       0.48516233, 0.50274879, 0.52040108, 0.52621557, 0.53759021,\n",
       "       0.54253003, 0.55236323, 0.55236323, 0.55580905, 0.55986712,\n",
       "       0.57289522, 0.57571233, 0.57618137, 0.59115847, 0.59273932,\n",
       "       0.59496177, 0.59496177, 0.59719477, 0.60164792, 0.60499009,\n",
       "       0.61391936, 0.61531711, 0.62175256, 0.62399259, 0.62511283,\n",
       "       0.6283938 , 0.63071615, 0.63491935, 0.63855598, 0.64571399,\n",
       "       0.65001303, 0.65001303, 0.65307598, 0.65858609, 0.65864313,\n",
       "       0.6597565 , 0.6619713 , 0.66419622, 0.66499349, 0.68399902,\n",
       "       0.688181  , 0.69235143, 0.69235143, 0.69235143, 0.69235143,\n",
       "       0.69376019, 0.69442933, 0.70126663, 0.70269476, 0.70446745,\n",
       "       0.70870572, 0.71291388, 0.71291388, 0.71396051, 0.71496994,\n",
       "       0.71604832, 0.72329307, 0.72432485, 0.72707242, 0.72841616,\n",
       "       0.72907829, 0.7483867 , 0.75033657, 0.75462606, 0.75655573,\n",
       "       0.76039063, 0.76181256, 0.76229941, 0.76742901, 0.76835295,\n",
       "       0.76927424, 0.77565647, 0.77655659, 0.77736261, 0.78014002,\n",
       "       0.78106848, 0.78454886, 0.78802333, 0.78888512, 0.78975842,\n",
       "       0.78975842, 0.78975842, 0.79317232, 0.79654237, 0.80067895,\n",
       "       0.80313853, 0.80716995, 0.81326667, 0.81422472, 0.81499157,\n",
       "       0.8165436 , 0.81671107, 0.81671107, 0.81841947, 0.81841947,\n",
       "       0.82330043, 0.82549524, 0.82549524, 0.82910656, 0.82981746,\n",
       "       0.83184142, 0.83512033, 0.83609618, 0.83745812, 0.83950984,\n",
       "       0.83999454, 0.83999454, 0.84084588, 0.8428218 , 0.84477144,\n",
       "       0.85108863, 0.85108863, 0.85170411, 0.85264855, 0.85593996,\n",
       "       0.86005443, 0.86176904, 0.86179888, 0.86179888, 0.86621653,\n",
       "       0.86627341, 0.86731289, 0.8692122 , 0.8692122 , 0.87310689,\n",
       "       0.87667954, 0.88152446, 0.88247176, 0.88340732, 0.8834301 ,\n",
       "       0.88387317, 0.88433872, 0.88479791, 0.88480782, 0.88972558,\n",
       "       0.88972558, 0.89016238, 0.89156758, 0.891885  , 0.89289326,\n",
       "       0.89357261, 0.89398833, 0.89481229, 0.89604187, 0.89725866,\n",
       "       0.89845301, 0.89884892, 0.90119604, 0.90195095, 0.90320931,\n",
       "       0.90715918, 0.90859831, 0.90938024, 0.90938024, 0.90938024,\n",
       "       0.912456  , 0.912456  , 0.91416623, 0.91450519, 0.91536578,\n",
       "       0.91618548, 0.91751332, 0.91784314, 0.91882773, 0.9199813 ,\n",
       "       0.92012977, 0.92109879, 0.92206187, 0.92206187, 0.92223432,\n",
       "       0.92302611, 0.92445953, 0.9249213 , 0.92649295, 0.927431  ,\n",
       "       0.92774294, 0.92929778, 0.92986906, 0.9330039 , 0.93392439,\n",
       "       0.93517613, 0.93548419, 0.93548419, 0.93701827, 0.93794287,\n",
       "       0.93825116, 0.93855951, 0.93886793, 0.94003719, 0.94040805,\n",
       "       0.94194556, 0.94196397, 0.94291445, 0.94317675, 0.94348469,\n",
       "       0.94348469, 0.94385635, 0.94410704, 0.94410704, 0.94479617,\n",
       "       0.94566631, 0.94663722, 0.94848678, 0.95069391, 0.95227791,\n",
       "       0.95322488, 0.9544955 , 0.95513266, 0.95513266, 0.95513266,\n",
       "       0.95513266, 0.95533553, 0.9561616 , 0.95801953, 0.96123811,\n",
       "       0.96244055, 0.96392551, 0.96672639, 0.9673732 , 0.96898151,\n",
       "       0.96930394, 0.96953258, 0.96962614, 0.97026977, 0.9728078 ,\n",
       "       0.97340241, 0.97784317, 0.97784317, 0.97937911, 0.98028972,\n",
       "       0.98132624, 0.98325524, 0.98330571, 0.98383374, 0.98425289,\n",
       "       0.98471185, 0.98516355, 0.98561362, 0.98608504, 0.98608504,\n",
       "       0.98772117, 0.98797737, 0.98890371, 0.99001435, 0.99002338,\n",
       "       0.99037015, 0.99051607, 0.99236266, 0.99236266, 0.99260868,\n",
       "       0.99266916, 0.99296873, 0.99354722, 0.99430473, 0.99462253,\n",
       "       0.99470294, 0.99487455, 0.99511991, 0.99564447, 0.99564447,\n",
       "       0.99582011, 0.99603551, 0.99603551, 0.99603551, 0.9963339 ,\n",
       "       0.99666471, 0.99666471, 0.99698212, 0.99705178, 0.99705178,\n",
       "       0.99774928, 0.99790585, 0.9980586 , 0.99835401, 0.99835401,\n",
       "       0.99846752, 0.99860505, 0.99877973, 0.99877973, 0.99905288,\n",
       "       0.99905288, 0.99923809, 0.99931932, 0.99955969, 0.99970988,\n",
       "       0.99982539, 0.99993843, 0.9999655 , 0.9999655 , 0.99998978])"
      ]
     },
     "execution_count": 42,
     "metadata": {},
     "output_type": "execute_result"
    }
   ],
   "source": [
    "dense[np.argsort(dense)]"
   ]
  },
  {
   "cell_type": "code",
   "execution_count": 56,
   "metadata": {},
   "outputs": [
    {
     "data": {
      "text/plain": [
       "289"
      ]
     },
     "execution_count": 56,
     "metadata": {},
     "output_type": "execute_result"
    }
   ],
   "source": [
    "(dense>0.5).sum()"
   ]
  },
  {
   "cell_type": "code",
   "execution_count": 57,
   "metadata": {},
   "outputs": [
    {
     "data": {
      "text/plain": [
       "81"
      ]
     },
     "execution_count": 57,
     "metadata": {},
     "output_type": "execute_result"
    }
   ],
   "source": [
    "(dense<0.5).sum()"
   ]
  },
  {
   "cell_type": "code",
   "execution_count": 58,
   "metadata": {},
   "outputs": [],
   "source": [
    "l = dense<0.5"
   ]
  },
  {
   "cell_type": "code",
   "execution_count": 79,
   "metadata": {},
   "outputs": [
    {
     "data": {
      "text/plain": [
       "[34.68]"
      ]
     },
     "execution_count": 79,
     "metadata": {},
     "output_type": "execute_result"
    }
   ],
   "source": [
    "import random\n",
    "\n",
    "random.choices(y[l],weights = 1-dense[l])"
   ]
  },
  {
   "cell_type": "code",
   "execution_count": 63,
   "metadata": {},
   "outputs": [
    {
     "data": {
      "text/plain": [
       "array([ 0.67, 27.33,  0.  ,  0.26, 28.13, 40.42, 38.31, 42.1 , 38.46,\n",
       "       44.77, 27.09, 39.04, 37.97, 36.66, 42.24, 23.78, 24.85, 26.17,\n",
       "       25.06, 48.16, 33.82, 38.24, 43.98, 36.24, 24.51, 34.68, 43.46,\n",
       "       30.57, 26.46, 27.02, 24.47, 35.44, 40.18, 42.22, 30.05, 34.07,\n",
       "        0.  , 44.04, 23.2 , 23.86, 29.31, 29.51, 41.46, 29.7 , 27.84,\n",
       "       24.58,  0.  , 28.37, 34.74, 35.69, 39.56, 29.82, 22.89, 30.39,\n",
       "       33.12, 34.47, 26.52, 26.65, 27.84, 29.92, 23.03, 31.72, 27.6 ,\n",
       "       32.59, 24.42, 25.07, 23.22, 27.64, 22.78, 26.85, 32.88, 22.88,\n",
       "       31.36, 26.23, 26.68, 23.54, 25.56, 33.2 , 27.36, 22.82, 30.12])"
      ]
     },
     "execution_count": 63,
     "metadata": {},
     "output_type": "execute_result"
    }
   ],
   "source": [
    "y[l]"
   ]
  },
  {
   "cell_type": "code",
   "execution_count": 81,
   "metadata": {},
   "outputs": [
    {
     "ename": "AttributeError",
     "evalue": "'numpy.ndarray' object has no attribute 'index'",
     "output_type": "error",
     "traceback": [
      "\u001b[0;31m---------------------------------------------------------------------------\u001b[0m",
      "\u001b[0;31mAttributeError\u001b[0m                            Traceback (most recent call last)",
      "\u001b[1;32m/home/ykinoshita/humrec_mood_tagger/mood_tagger_master_thesis_V2/Testing/testing_kde.ipynb Cell 45\u001b[0m line \u001b[0;36m1\n\u001b[0;32m----> <a href='vscode-notebook-cell://ssh-remote%2Bdavinci/home/ykinoshita/humrec_mood_tagger/mood_tagger_master_thesis_V2/Testing/testing_kde.ipynb#X60sdnNjb2RlLXJlbW90ZQ%3D%3D?line=0'>1</a>\u001b[0m y\u001b[39m.\u001b[39;49mindex(random\u001b[39m.\u001b[39mchoices(y[l],weights \u001b[39m=\u001b[39m \u001b[39m1\u001b[39m\u001b[39m-\u001b[39mdense[l])[\u001b[39m0\u001b[39m])\n",
      "\u001b[0;31mAttributeError\u001b[0m: 'numpy.ndarray' object has no attribute 'index'"
     ]
    }
   ],
   "source": [
    "y.index(random.choices(y[l],weights = 1-dense[l])[0])"
   ]
  },
  {
   "cell_type": "code",
   "execution_count": 84,
   "metadata": {},
   "outputs": [
    {
     "data": {
      "text/plain": [
       "200"
      ]
     },
     "execution_count": 84,
     "metadata": {},
     "output_type": "execute_result"
    }
   ],
   "source": [
    "np.where(y == random.choices(y[l],weights = 1-dense[l]))[0][0]"
   ]
  },
  {
   "cell_type": "code",
   "execution_count": null,
   "metadata": {},
   "outputs": [],
   "source": []
  }
 ],
 "metadata": {
  "kernelspec": {
   "display_name": "mood_tagger_venv",
   "language": "python",
   "name": "python3"
  },
  "language_info": {
   "codemirror_mode": {
    "name": "ipython",
    "version": 3
   },
   "file_extension": ".py",
   "mimetype": "text/x-python",
   "name": "python",
   "nbconvert_exporter": "python",
   "pygments_lexer": "ipython3",
   "version": "3.10.12"
  }
 },
 "nbformat": 4,
 "nbformat_minor": 2
}
