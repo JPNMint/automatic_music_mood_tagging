{
 "cells": [
  {
   "cell_type": "code",
   "execution_count": 3,
   "metadata": {},
   "outputs": [],
   "source": [
    "import pandas as pd\n",
    "import numpy as np\n",
    "import os\n",
    "\n",
    "\n",
    "\n",
    "ANNOT_CSV_FILE = 'data/GEMS-INN_2023-01-30_expert.csv'\n",
    "\n",
    "\n",
    "GEMS_9 = ['Wonder', 'Transcendence', 'Nostalgia', 'Tenderness', 'Peacfulness', 'Joy', 'Power', 'Tension', 'Sadness']\n",
    "NUM_CLASSES = len(GEMS_9)\n",
    "GENRE_MAP = {'H': 'Hip-Hop', 'K': 'Classical', 'P': 'Pop'}\n",
    "\n",
    "emma_df = pd.read_csv(ANNOT_CSV_FILE, encoding=\"ISO-8859-1\")\n",
    "emma_df.dropna(inplace=True)\n"
   ]
  },
  {
   "cell_type": "code",
   "execution_count": null,
   "metadata": {},
   "outputs": [],
   "source": []
  },
  {
   "cell_type": "code",
   "execution_count": 8,
   "metadata": {},
   "outputs": [
    {
     "name": "stdout",
     "output_type": "stream",
     "text": [
      "not found! Black Hippy Control\n",
      "not found! Naughty by Nature O.P.P.\n",
      "not found! Busta Rhymes Put Your Hands Where My Eyes Can See\n",
      "not found! Method Man Part II\n",
      "not found! Mahler 6. Sinfonie, 1. Satz\n",
      "not found count :  5   - matched: 365\n"
     ]
    }
   ],
   "source": [
    "from data import load_data,match_files\n",
    "\n",
    "entries = match_files()\n"
   ]
  },
  {
   "cell_type": "code",
   "execution_count": 9,
   "metadata": {},
   "outputs": [],
   "source": [
    "annots = [entry.get_gems_9() for entry in entries]"
   ]
  },
  {
   "cell_type": "code",
   "execution_count": 12,
   "metadata": {},
   "outputs": [],
   "source": [
    "\n",
    "feats = [entry.get_audio() for entry in entries]"
   ]
  },
  {
   "cell_type": "code",
   "execution_count": 19,
   "metadata": {},
   "outputs": [
    {
     "data": {
      "text/plain": [
       "1855873"
      ]
     },
     "execution_count": 19,
     "metadata": {},
     "output_type": "execute_result"
    }
   ],
   "source": [
    "len(feats[0])"
   ]
  },
  {
   "cell_type": "code",
   "execution_count": 15,
   "metadata": {},
   "outputs": [
    {
     "data": {
      "text/html": [
       "<div>\n",
       "<style scoped>\n",
       "    .dataframe tbody tr th:only-of-type {\n",
       "        vertical-align: middle;\n",
       "    }\n",
       "\n",
       "    .dataframe tbody tr th {\n",
       "        vertical-align: top;\n",
       "    }\n",
       "\n",
       "    .dataframe thead th {\n",
       "        text-align: right;\n",
       "    }\n",
       "</style>\n",
       "<table border=\"1\" class=\"dataframe\">\n",
       "  <thead>\n",
       "    <tr style=\"text-align: right;\">\n",
       "      <th></th>\n",
       "      <th>Unnamed: 0</th>\n",
       "      <th>artist</th>\n",
       "      <th>title</th>\n",
       "      <th>Wonder</th>\n",
       "      <th>Transcendence</th>\n",
       "      <th>Nostalgia</th>\n",
       "      <th>Tenderness</th>\n",
       "      <th>Peacfulness</th>\n",
       "      <th>Joy</th>\n",
       "      <th>Power</th>\n",
       "      <th>Tension</th>\n",
       "      <th>Sadness</th>\n",
       "      <th>Sublimity</th>\n",
       "      <th>Vitality</th>\n",
       "      <th>Unease</th>\n",
       "      <th>ICC</th>\n",
       "      <th>Familiarity</th>\n",
       "      <th>Liking</th>\n",
       "    </tr>\n",
       "  </thead>\n",
       "  <tbody>\n",
       "    <tr>\n",
       "      <th>0</th>\n",
       "      <td>1</td>\n",
       "      <td>Trailerpark</td>\n",
       "      <td>Schlechter Tag</td>\n",
       "      <td>15.65</td>\n",
       "      <td>19.68</td>\n",
       "      <td>3.54</td>\n",
       "      <td>5.30</td>\n",
       "      <td>5.08</td>\n",
       "      <td>22.33</td>\n",
       "      <td>2.35</td>\n",
       "      <td>11.20</td>\n",
       "      <td>0.00</td>\n",
       "      <td>18.50</td>\n",
       "      <td>21.15</td>\n",
       "      <td>10.50</td>\n",
       "      <td>0.65</td>\n",
       "      <td>2.00</td>\n",
       "      <td>3.17</td>\n",
       "    </tr>\n",
       "    <tr>\n",
       "      <th>1</th>\n",
       "      <td>2</td>\n",
       "      <td>Desiigner</td>\n",
       "      <td>Panda</td>\n",
       "      <td>24.69</td>\n",
       "      <td>4.69</td>\n",
       "      <td>0.78</td>\n",
       "      <td>9.30</td>\n",
       "      <td>7.92</td>\n",
       "      <td>28.26</td>\n",
       "      <td>22.73</td>\n",
       "      <td>9.33</td>\n",
       "      <td>1.06</td>\n",
       "      <td>19.39</td>\n",
       "      <td>30.32</td>\n",
       "      <td>8.91</td>\n",
       "      <td>0.76</td>\n",
       "      <td>4.25</td>\n",
       "      <td>3.83</td>\n",
       "    </tr>\n",
       "    <tr>\n",
       "      <th>2</th>\n",
       "      <td>3</td>\n",
       "      <td>NAS</td>\n",
       "      <td>Doo Rags</td>\n",
       "      <td>24.43</td>\n",
       "      <td>18.57</td>\n",
       "      <td>14.29</td>\n",
       "      <td>19.88</td>\n",
       "      <td>17.55</td>\n",
       "      <td>24.67</td>\n",
       "      <td>27.48</td>\n",
       "      <td>0.00</td>\n",
       "      <td>2.50</td>\n",
       "      <td>33.45</td>\n",
       "      <td>36.15</td>\n",
       "      <td>2.11</td>\n",
       "      <td>0.58</td>\n",
       "      <td>2.08</td>\n",
       "      <td>4.00</td>\n",
       "    </tr>\n",
       "    <tr>\n",
       "      <th>3</th>\n",
       "      <td>4</td>\n",
       "      <td>DMX</td>\n",
       "      <td>X Gon' Give It To Ya</td>\n",
       "      <td>17.27</td>\n",
       "      <td>7.05</td>\n",
       "      <td>9.89</td>\n",
       "      <td>8.60</td>\n",
       "      <td>9.52</td>\n",
       "      <td>37.27</td>\n",
       "      <td>37.77</td>\n",
       "      <td>0.00</td>\n",
       "      <td>0.73</td>\n",
       "      <td>26.05</td>\n",
       "      <td>40.19</td>\n",
       "      <td>0.61</td>\n",
       "      <td>0.86</td>\n",
       "      <td>3.91</td>\n",
       "      <td>4.18</td>\n",
       "    </tr>\n",
       "    <tr>\n",
       "      <th>4</th>\n",
       "      <td>5</td>\n",
       "      <td>Xatar</td>\n",
       "      <td>Meine Große Liebe</td>\n",
       "      <td>6.46</td>\n",
       "      <td>15.86</td>\n",
       "      <td>0.00</td>\n",
       "      <td>9.27</td>\n",
       "      <td>0.67</td>\n",
       "      <td>13.86</td>\n",
       "      <td>15.98</td>\n",
       "      <td>3.79</td>\n",
       "      <td>0.00</td>\n",
       "      <td>19.42</td>\n",
       "      <td>19.77</td>\n",
       "      <td>3.38</td>\n",
       "      <td>0.52</td>\n",
       "      <td>2.00</td>\n",
       "      <td>2.64</td>\n",
       "    </tr>\n",
       "  </tbody>\n",
       "</table>\n",
       "</div>"
      ],
      "text/plain": [
       "   Unnamed: 0       artist                 title  Wonder  Transcendence  \\\n",
       "0           1  Trailerpark        Schlechter Tag   15.65          19.68   \n",
       "1           2    Desiigner                 Panda   24.69           4.69   \n",
       "2           3          NAS              Doo Rags   24.43          18.57   \n",
       "3           4          DMX  X Gon' Give It To Ya   17.27           7.05   \n",
       "4           5        Xatar     Meine Große Liebe    6.46          15.86   \n",
       "\n",
       "   Nostalgia  Tenderness  Peacfulness    Joy  Power  Tension  Sadness  \\\n",
       "0       3.54        5.30         5.08  22.33   2.35    11.20     0.00   \n",
       "1       0.78        9.30         7.92  28.26  22.73     9.33     1.06   \n",
       "2      14.29       19.88        17.55  24.67  27.48     0.00     2.50   \n",
       "3       9.89        8.60         9.52  37.27  37.77     0.00     0.73   \n",
       "4       0.00        9.27         0.67  13.86  15.98     3.79     0.00   \n",
       "\n",
       "   Sublimity  Vitality  Unease   ICC  Familiarity  Liking  \n",
       "0      18.50     21.15   10.50  0.65         2.00    3.17  \n",
       "1      19.39     30.32    8.91  0.76         4.25    3.83  \n",
       "2      33.45     36.15    2.11  0.58         2.08    4.00  \n",
       "3      26.05     40.19    0.61  0.86         3.91    4.18  \n",
       "4      19.42     19.77    3.38  0.52         2.00    2.64  "
      ]
     },
     "execution_count": 15,
     "metadata": {},
     "output_type": "execute_result"
    }
   ],
   "source": [
    "emma_df.head()\n"
   ]
  },
  {
   "cell_type": "code",
   "execution_count": 16,
   "metadata": {},
   "outputs": [
    {
     "ename": "ValueError",
     "evalue": "Length of values (365) does not match length of index (370)",
     "output_type": "error",
     "traceback": [
      "\u001b[0;31m---------------------------------------------------------------------------\u001b[0m",
      "\u001b[0;31mValueError\u001b[0m                                Traceback (most recent call last)",
      "Cell \u001b[0;32mIn[16], line 1\u001b[0m\n\u001b[0;32m----> 1\u001b[0m emma_df[\u001b[39m'\u001b[39;49m\u001b[39mfeatures\u001b[39;49m\u001b[39m'\u001b[39;49m] \u001b[39m=\u001b[39m feats\n",
      "File \u001b[0;32m~/humrec_mood_tagger/mood_tagger_venv/lib/python3.10/site-packages/pandas/core/frame.py:3950\u001b[0m, in \u001b[0;36mDataFrame.__setitem__\u001b[0;34m(self, key, value)\u001b[0m\n\u001b[1;32m   3947\u001b[0m     \u001b[39mself\u001b[39m\u001b[39m.\u001b[39m_setitem_array([key], value)\n\u001b[1;32m   3948\u001b[0m \u001b[39melse\u001b[39;00m:\n\u001b[1;32m   3949\u001b[0m     \u001b[39m# set column\u001b[39;00m\n\u001b[0;32m-> 3950\u001b[0m     \u001b[39mself\u001b[39;49m\u001b[39m.\u001b[39;49m_set_item(key, value)\n",
      "File \u001b[0;32m~/humrec_mood_tagger/mood_tagger_venv/lib/python3.10/site-packages/pandas/core/frame.py:4143\u001b[0m, in \u001b[0;36mDataFrame._set_item\u001b[0;34m(self, key, value)\u001b[0m\n\u001b[1;32m   4133\u001b[0m \u001b[39mdef\u001b[39;00m \u001b[39m_set_item\u001b[39m(\u001b[39mself\u001b[39m, key, value) \u001b[39m-\u001b[39m\u001b[39m>\u001b[39m \u001b[39mNone\u001b[39;00m:\n\u001b[1;32m   4134\u001b[0m \u001b[39m    \u001b[39m\u001b[39m\"\"\"\u001b[39;00m\n\u001b[1;32m   4135\u001b[0m \u001b[39m    Add series to DataFrame in specified column.\u001b[39;00m\n\u001b[1;32m   4136\u001b[0m \n\u001b[0;32m   (...)\u001b[0m\n\u001b[1;32m   4141\u001b[0m \u001b[39m    ensure homogeneity.\u001b[39;00m\n\u001b[1;32m   4142\u001b[0m \u001b[39m    \"\"\"\u001b[39;00m\n\u001b[0;32m-> 4143\u001b[0m     value \u001b[39m=\u001b[39m \u001b[39mself\u001b[39;49m\u001b[39m.\u001b[39;49m_sanitize_column(value)\n\u001b[1;32m   4145\u001b[0m     \u001b[39mif\u001b[39;00m (\n\u001b[1;32m   4146\u001b[0m         key \u001b[39min\u001b[39;00m \u001b[39mself\u001b[39m\u001b[39m.\u001b[39mcolumns\n\u001b[1;32m   4147\u001b[0m         \u001b[39mand\u001b[39;00m value\u001b[39m.\u001b[39mndim \u001b[39m==\u001b[39m \u001b[39m1\u001b[39m\n\u001b[1;32m   4148\u001b[0m         \u001b[39mand\u001b[39;00m \u001b[39mnot\u001b[39;00m is_extension_array_dtype(value)\n\u001b[1;32m   4149\u001b[0m     ):\n\u001b[1;32m   4150\u001b[0m         \u001b[39m# broadcast across multiple columns if necessary\u001b[39;00m\n\u001b[1;32m   4151\u001b[0m         \u001b[39mif\u001b[39;00m \u001b[39mnot\u001b[39;00m \u001b[39mself\u001b[39m\u001b[39m.\u001b[39mcolumns\u001b[39m.\u001b[39mis_unique \u001b[39mor\u001b[39;00m \u001b[39misinstance\u001b[39m(\u001b[39mself\u001b[39m\u001b[39m.\u001b[39mcolumns, MultiIndex):\n",
      "File \u001b[0;32m~/humrec_mood_tagger/mood_tagger_venv/lib/python3.10/site-packages/pandas/core/frame.py:4870\u001b[0m, in \u001b[0;36mDataFrame._sanitize_column\u001b[0;34m(self, value)\u001b[0m\n\u001b[1;32m   4867\u001b[0m     \u001b[39mreturn\u001b[39;00m _reindex_for_setitem(Series(value), \u001b[39mself\u001b[39m\u001b[39m.\u001b[39mindex)\n\u001b[1;32m   4869\u001b[0m \u001b[39mif\u001b[39;00m is_list_like(value):\n\u001b[0;32m-> 4870\u001b[0m     com\u001b[39m.\u001b[39;49mrequire_length_match(value, \u001b[39mself\u001b[39;49m\u001b[39m.\u001b[39;49mindex)\n\u001b[1;32m   4871\u001b[0m \u001b[39mreturn\u001b[39;00m sanitize_array(value, \u001b[39mself\u001b[39m\u001b[39m.\u001b[39mindex, copy\u001b[39m=\u001b[39m\u001b[39mTrue\u001b[39;00m, allow_2d\u001b[39m=\u001b[39m\u001b[39mTrue\u001b[39;00m)\n",
      "File \u001b[0;32m~/humrec_mood_tagger/mood_tagger_venv/lib/python3.10/site-packages/pandas/core/common.py:576\u001b[0m, in \u001b[0;36mrequire_length_match\u001b[0;34m(data, index)\u001b[0m\n\u001b[1;32m    572\u001b[0m \u001b[39m\u001b[39m\u001b[39m\"\"\"\u001b[39;00m\n\u001b[1;32m    573\u001b[0m \u001b[39mCheck the length of data matches the length of the index.\u001b[39;00m\n\u001b[1;32m    574\u001b[0m \u001b[39m\"\"\"\u001b[39;00m\n\u001b[1;32m    575\u001b[0m \u001b[39mif\u001b[39;00m \u001b[39mlen\u001b[39m(data) \u001b[39m!=\u001b[39m \u001b[39mlen\u001b[39m(index):\n\u001b[0;32m--> 576\u001b[0m     \u001b[39mraise\u001b[39;00m \u001b[39mValueError\u001b[39;00m(\n\u001b[1;32m    577\u001b[0m         \u001b[39m\"\u001b[39m\u001b[39mLength of values \u001b[39m\u001b[39m\"\u001b[39m\n\u001b[1;32m    578\u001b[0m         \u001b[39mf\u001b[39m\u001b[39m\"\u001b[39m\u001b[39m(\u001b[39m\u001b[39m{\u001b[39;00m\u001b[39mlen\u001b[39m(data)\u001b[39m}\u001b[39;00m\u001b[39m) \u001b[39m\u001b[39m\"\u001b[39m\n\u001b[1;32m    579\u001b[0m         \u001b[39m\"\u001b[39m\u001b[39mdoes not match length of index \u001b[39m\u001b[39m\"\u001b[39m\n\u001b[1;32m    580\u001b[0m         \u001b[39mf\u001b[39m\u001b[39m\"\u001b[39m\u001b[39m(\u001b[39m\u001b[39m{\u001b[39;00m\u001b[39mlen\u001b[39m(index)\u001b[39m}\u001b[39;00m\u001b[39m)\u001b[39m\u001b[39m\"\u001b[39m\n\u001b[1;32m    581\u001b[0m     )\n",
      "\u001b[0;31mValueError\u001b[0m: Length of values (365) does not match length of index (370)"
     ]
    }
   ],
   "source": [
    "emma_df['features'] = feats"
   ]
  },
  {
   "cell_type": "code",
   "execution_count": null,
   "metadata": {},
   "outputs": [],
   "source": []
  }
 ],
 "metadata": {
  "kernelspec": {
   "display_name": "mood_tagger_venv",
   "language": "python",
   "name": "python3"
  },
  "language_info": {
   "codemirror_mode": {
    "name": "ipython",
    "version": 3
   },
   "file_extension": ".py",
   "mimetype": "text/x-python",
   "name": "python",
   "nbconvert_exporter": "python",
   "pygments_lexer": "ipython3",
   "version": "3.10.12"
  },
  "orig_nbformat": 4
 },
 "nbformat": 4,
 "nbformat_minor": 2
}
